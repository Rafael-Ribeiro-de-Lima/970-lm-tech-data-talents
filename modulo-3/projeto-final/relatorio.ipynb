{
  "cells": [
    {
      "attachments": {},
      "cell_type": "markdown",
      "id": "8030d55b",
      "metadata": {
        "id": "8030d55b"
      },
      "source": [
        "# Projeto Técnicas de programação I\n",
        "\n",
        "## Análise exploratória de dados/Pandas\n",
        "\n",
        "- Nomes:\n",
        "    - Gabriel\n",
        "    - Rafael Ribeiro de Lima\n",
        "    - William James Erthal\n",
        "    \n",
        "- Turma: \n",
        "    - #970 LM Tech Data Talents\n",
        "\n",
        "- Módulo 3\n",
        "    - [DS-PY-004] TÉCNICAS DE PROGRAMAÇÃO I (PY)"
      ]
    },
    {
      "cell_type": "markdown",
      "id": "9d476103",
      "metadata": {
        "id": "9d476103"
      },
      "source": [
        "Nesse projeto trabalharemos com dados fictícios de investidores.\n",
        "\n",
        "São 3 arquivos que devem ser carregados para responder as perguntas abaixo.\n",
        "\n",
        "Para a entrega, coloque o notebook respondido no seu github (um por grupo)!"
      ]
    },
    {
      "cell_type": "markdown",
      "id": "ff348160",
      "metadata": {
        "id": "ff348160"
      },
      "source": [
        "Informações\n",
        "\n",
        "Cadastro:\n",
        "- **id** : Identificação do investidor\n",
        "- **Nome** : Nome completo do investidor \n",
        "- **Sexo** : Feminino ou masculino\n",
        "- **Nasc** : Data de nascimento\n",
        "- **Idade** : Idade do investidor \n",
        "- **Email** : E-mail do investidor\n",
        "- **Lat_long** : Dados geográficos do investidor\n",
        "- **Job** : Profisão do investidor ou do seu responsável (em inglês)\n",
        "- **Estado** : Estado onde o investidor reside\n",
        "\n",
        "Investimento:\n",
        "- **id** : Identificação do investidor\n",
        "- **Salario** : Renda do investidor ou seu responsável\n",
        "- **Perfil** : Perfil de investimento\n",
        "- **Ativo01, Ativo02, Ativo03, Ativo04, Ativo05, Ativo06, Ativo07** : O quanto de dinheiro o investidor colocou em cada ativo\n",
        "- **Nota1, Nota2** : O quanto o investidor está satisfeito com nossa empresa (2 avaliações)\n",
        "\n",
        "Lembrando que esses dados são irreais e fictícios\n"
      ]
    },
    {
      "cell_type": "markdown",
      "id": "2c93ad4b",
      "metadata": {
        "id": "2c93ad4b"
      },
      "source": [
        "Arquivo cadastro.csv\n",
        "\n",
        "\n",
        "Arquivo investimento.csv (dividido em 2 partes)"
      ]
    },
    {
      "cell_type": "markdown",
      "id": "ebdf2a14",
      "metadata": {
        "id": "ebdf2a14"
      },
      "source": [
        "### Critérios de avaliação\n",
        "\n",
        "Os seguintes itens serão avaliados:\n",
        "\n",
        "1. Reprodutibilidade do código: seu código será executado e precisa gerar os mesmos resultados apresentados por você;\n",
        "\n",
        "2. Clareza: seu código precisa ser claro e deve existir uma linha de raciocínio direta. Comente o código em pontos que julgar necessário para o entendimento total;\n",
        "\n",
        "3. Explicação de todos os processos feitos e decisões tomadas\n",
        "\n",
        "## Informações Gerais sobre o Projeto\n",
        "\n",
        "- O projeto poderá ser desenvolvido __individualmente__ ou em __grupos com até 4 pessoas__, caos façam em grupos enviar a relação de alunos do grupo para o professor;\n",
        "\n",
        "\n",
        "- Data de Entrega: 14/04/2023;\n",
        "\n",
        "- Entrega: Através do _Class_\n",
        "\n",
        "\n",
        "\n"
      ]
    },
    {
      "cell_type": "markdown",
      "id": "4ceb5d96",
      "metadata": {
        "id": "4ceb5d96"
      },
      "source": [
        "## 1 - Carregar os arquivos e cadastro, investimento1 e investimento2 e mostrar a quantidade de linhas de cada um, além das informações desses dataframes"
      ]
    },
    {
      "cell_type": "code",
      "execution_count": 67,
      "id": "61c059ab",
      "metadata": {
        "ExecuteTime": {
          "end_time": "2021-08-16T13:30:14.809532Z",
          "start_time": "2021-08-16T13:30:14.801117Z"
        },
        "id": "61c059ab"
      },
      "outputs": [
        {
          "name": "stdout",
          "output_type": "stream",
          "text": [
            "<class 'pandas.core.frame.DataFrame'>\n",
            "RangeIndex: 38754 entries, 0 to 38753\n",
            "Data columns (total 9 columns):\n",
            " #   Column    Non-Null Count  Dtype \n",
            "---  ------    --------------  ----- \n",
            " 0   id        38754 non-null  object\n",
            " 1   Nome      38754 non-null  object\n",
            " 2   Sexo      38754 non-null  object\n",
            " 3   Nasc      38754 non-null  object\n",
            " 4   Idade     38754 non-null  int64 \n",
            " 5   Email     38754 non-null  object\n",
            " 6   Lat_long  38754 non-null  object\n",
            " 7   Job       38754 non-null  object\n",
            " 8   Estado    38754 non-null  object\n",
            "dtypes: int64(1), object(8)\n",
            "memory usage: 2.7+ MB\n",
            "\n",
            "<class 'pandas.core.frame.DataFrame'>\n",
            "RangeIndex: 20000 entries, 0 to 19999\n",
            "Data columns (total 12 columns):\n",
            " #   Column   Non-Null Count  Dtype  \n",
            "---  ------   --------------  -----  \n",
            " 0   id       20000 non-null  object \n",
            " 1   Salario  20000 non-null  object \n",
            " 2   Perfil   20000 non-null  object \n",
            " 3   Ativo01  15012 non-null  float64\n",
            " 4   Ativo02  16857 non-null  float64\n",
            " 5   Ativo03  16760 non-null  float64\n",
            " 6   Ativo04  13799 non-null  float64\n",
            " 7   Ativo05  16829 non-null  float64\n",
            " 8   Ativo06  9895 non-null   float64\n",
            " 9   Ativo07  20000 non-null  float64\n",
            " 10  Nota1    18469 non-null  float64\n",
            " 11  Nota2    18954 non-null  float64\n",
            "dtypes: float64(9), object(3)\n",
            "memory usage: 1.8+ MB\n",
            "\n",
            "<class 'pandas.core.frame.DataFrame'>\n",
            "RangeIndex: 24052 entries, 0 to 24051\n",
            "Data columns (total 12 columns):\n",
            " #   Column   Non-Null Count  Dtype  \n",
            "---  ------   --------------  -----  \n",
            " 0   id       24052 non-null  object \n",
            " 1   Salario  24052 non-null  object \n",
            " 2   Perfil   24052 non-null  object \n",
            " 3   Ativo01  17994 non-null  float64\n",
            " 4   Ativo02  20245 non-null  float64\n",
            " 5   Ativo03  20249 non-null  float64\n",
            " 6   Ativo04  16685 non-null  float64\n",
            " 7   Ativo05  20211 non-null  float64\n",
            " 8   Ativo06  11932 non-null  float64\n",
            " 9   Ativo07  24052 non-null  float64\n",
            " 10  Nota1    22172 non-null  float64\n",
            " 11  Nota2    22810 non-null  float64\n",
            "dtypes: float64(9), object(3)\n",
            "memory usage: 2.2+ MB\n",
            "\n"
          ]
        }
      ],
      "source": [
        "## Carregando os arquivos\n",
        "\n",
        "import pandas as pd\n",
        "import datetime as dt\n",
        "import os\n",
        "\n",
        "path = os.getcwd() + r'/db'\n",
        "path_cadastros = path + r'/cadastros/'\n",
        "path_investimentos = path + r'/investimentos/'\n",
        "\n",
        "arquivos_cadastros = [f for f in os.listdir(path_cadastros) if f.endswith('.csv')]\n",
        "arquivos_investimentos = [f for f in os.listdir(path_investimentos) if f.endswith('.csv')]\n",
        "\n",
        "cadastro = []\n",
        "for cad in arquivos_cadastros:\n",
        "    temp_df = pd.read_csv(path_cadastros + cad)\n",
        "    temp_df.info()\n",
        "    cadastro.append(temp_df)\n",
        "    print()\n",
        "\n",
        "investimento = []\n",
        "for invest in arquivos_investimentos:\n",
        "    temp_df = pd.read_csv(path_investimentos + invest)\n",
        "    temp_df.info()\n",
        "    investimento.append(temp_df)\n",
        "    print()"
      ]
    },
    {
      "cell_type": "markdown",
      "id": "de88ae37",
      "metadata": {
        "id": "de88ae37"
      },
      "source": [
        "## 2 - Juntar os dataframes de investimento1 e investimento2 em um só e ver a quantidade de linhas"
      ]
    },
    {
      "cell_type": "code",
      "execution_count": 68,
      "id": "e2c363da",
      "metadata": {
        "id": "e2c363da"
      },
      "outputs": [
        {
          "name": "stdout",
          "output_type": "stream",
          "text": [
            "O dataframe de \"Cadastros\" possui 38754 linhas\n",
            "O dataframe de \"Investimentos\" possui 44052 linhas\n"
          ]
        }
      ],
      "source": [
        "dfc = pd.concat(cadastro)\n",
        "dfi = pd.concat(investimento)\n",
        "print(f'O dataframe de \"Cadastros\" possui {dfc.shape[0]} linhas')\n",
        "print(f'O dataframe de \"Investimentos\" possui {dfi.shape[0]} linhas')\n"
      ]
    },
    {
      "cell_type": "markdown",
      "id": "9a49fb0d",
      "metadata": {
        "id": "9a49fb0d"
      },
      "source": [
        "## 3 - Crie um novo dataframe eliminando as linhas duplicadas"
      ]
    },
    {
      "cell_type": "code",
      "execution_count": 69,
      "id": "9d26e5d9",
      "metadata": {
        "id": "9d26e5d9"
      },
      "outputs": [
        {
          "data": {
            "text/plain": [
              "'O dataframe de \"Investimentos\" agora possui 38754 linhas'"
            ]
          },
          "execution_count": 69,
          "metadata": {},
          "output_type": "execute_result"
        }
      ],
      "source": [
        "dfi = dfi.drop_duplicates()\n",
        "f'O dataframe de \"Investimentos\" agora possui {dfi.shape[0]} linhas'"
      ]
    },
    {
      "cell_type": "code",
      "execution_count": 70,
      "id": "caacf83a",
      "metadata": {},
      "outputs": [
        {
          "data": {
            "text/plain": [
              "'O dataframe de \"Cadastros\" agora possui 38754 linhas'"
            ]
          },
          "execution_count": 70,
          "metadata": {},
          "output_type": "execute_result"
        }
      ],
      "source": [
        "dfc = dfc.drop_duplicates()\n",
        "f'O dataframe de \"Cadastros\" agora possui {dfc.shape[0]} linhas'"
      ]
    },
    {
      "cell_type": "markdown",
      "id": "d5c4abc4",
      "metadata": {
        "id": "d5c4abc4"
      },
      "source": [
        "## 4 - Junte o dataframe de investimento com o de cadastro\n",
        "Dica: use a chave id"
      ]
    },
    {
      "cell_type": "code",
      "execution_count": 71,
      "id": "f21d58b4",
      "metadata": {
        "id": "f21d58b4"
      },
      "outputs": [],
      "source": [
        "df = pd.merge(dfc, dfi, on='id', how='inner')"
      ]
    },
    {
      "cell_type": "markdown",
      "id": "0ce78c5c",
      "metadata": {
        "ExecuteTime": {
          "end_time": "2021-08-16T13:13:10.973171Z",
          "start_time": "2021-08-16T13:13:10.961165Z"
        },
        "id": "0ce78c5c"
      },
      "source": [
        "## 5 - Ordene o dataframe pelo id, de forma crescente e redefina o índice"
      ]
    },
    {
      "cell_type": "code",
      "execution_count": 73,
      "id": "4d97062c",
      "metadata": {
        "id": "4d97062c"
      },
      "outputs": [
        {
          "data": {
            "text/html": [
              "<div>\n",
              "<style scoped>\n",
              "    .dataframe tbody tr th:only-of-type {\n",
              "        vertical-align: middle;\n",
              "    }\n",
              "\n",
              "    .dataframe tbody tr th {\n",
              "        vertical-align: top;\n",
              "    }\n",
              "\n",
              "    .dataframe thead th {\n",
              "        text-align: right;\n",
              "    }\n",
              "</style>\n",
              "<table border=\"1\" class=\"dataframe\">\n",
              "  <thead>\n",
              "    <tr style=\"text-align: right;\">\n",
              "      <th></th>\n",
              "      <th>Nome</th>\n",
              "      <th>Sexo</th>\n",
              "      <th>Nasc</th>\n",
              "      <th>Idade</th>\n",
              "      <th>Email</th>\n",
              "      <th>Lat_long</th>\n",
              "      <th>Job</th>\n",
              "      <th>Estado</th>\n",
              "      <th>Salario</th>\n",
              "      <th>Perfil</th>\n",
              "      <th>Ativo01</th>\n",
              "      <th>Ativo02</th>\n",
              "      <th>Ativo03</th>\n",
              "      <th>Ativo04</th>\n",
              "      <th>Ativo05</th>\n",
              "      <th>Ativo06</th>\n",
              "      <th>Ativo07</th>\n",
              "      <th>Nota1</th>\n",
              "      <th>Nota2</th>\n",
              "    </tr>\n",
              "    <tr>\n",
              "      <th>id</th>\n",
              "      <th></th>\n",
              "      <th></th>\n",
              "      <th></th>\n",
              "      <th></th>\n",
              "      <th></th>\n",
              "      <th></th>\n",
              "      <th></th>\n",
              "      <th></th>\n",
              "      <th></th>\n",
              "      <th></th>\n",
              "      <th></th>\n",
              "      <th></th>\n",
              "      <th></th>\n",
              "      <th></th>\n",
              "      <th></th>\n",
              "      <th></th>\n",
              "      <th></th>\n",
              "      <th></th>\n",
              "      <th></th>\n",
              "    </tr>\n",
              "  </thead>\n",
              "  <tbody>\n",
              "    <tr>\n",
              "      <th>id0000001</th>\n",
              "      <td>Eunice Hellen do Vale</td>\n",
              "      <td>Fem</td>\n",
              "      <td>1970-11-12</td>\n",
              "      <td>51</td>\n",
              "      <td>djones@yahoo.com</td>\n",
              "      <td>(Decimal('24.7024355'), Decimal('-28.038258'))</td>\n",
              "      <td>Technical author</td>\n",
              "      <td>TO</td>\n",
              "      <td>$63.67</td>\n",
              "      <td>Moderado</td>\n",
              "      <td>1174.27</td>\n",
              "      <td>4980.98</td>\n",
              "      <td>2638.24</td>\n",
              "      <td>NaN</td>\n",
              "      <td>4480.91</td>\n",
              "      <td>2329.72</td>\n",
              "      <td>480.72</td>\n",
              "      <td>79.600372</td>\n",
              "      <td>9.802620</td>\n",
              "    </tr>\n",
              "    <tr>\n",
              "      <th>id0000002</th>\n",
              "      <td>Sebastião Castelo Branco Júnior</td>\n",
              "      <td>Masc</td>\n",
              "      <td>2019-12-10</td>\n",
              "      <td>2</td>\n",
              "      <td>barnesandrea@yahoo.com</td>\n",
              "      <td>(Decimal('21.8589875'), Decimal('122.830566'))</td>\n",
              "      <td>Biochemist, clinical</td>\n",
              "      <td>DF</td>\n",
              "      <td>$21.96</td>\n",
              "      <td>Moderado</td>\n",
              "      <td>842.12</td>\n",
              "      <td>5646.09</td>\n",
              "      <td>3336.07</td>\n",
              "      <td>NaN</td>\n",
              "      <td>5624.22</td>\n",
              "      <td>2669.98</td>\n",
              "      <td>504.17</td>\n",
              "      <td>44.406893</td>\n",
              "      <td>90.512871</td>\n",
              "    </tr>\n",
              "    <tr>\n",
              "      <th>id0000003</th>\n",
              "      <td>Romildo Fábio de Carvalho</td>\n",
              "      <td>Masc</td>\n",
              "      <td>2015-12-28</td>\n",
              "      <td>6</td>\n",
              "      <td>walkermichael@yahoo.com</td>\n",
              "      <td>(Decimal('-28.2161525'), Decimal('97.140529'))</td>\n",
              "      <td>Development worker, international aid</td>\n",
              "      <td>DF</td>\n",
              "      <td>$62497.64</td>\n",
              "      <td>Agressivo</td>\n",
              "      <td>818.81</td>\n",
              "      <td>5516.52</td>\n",
              "      <td>3396.64</td>\n",
              "      <td>NaN</td>\n",
              "      <td>5033.83</td>\n",
              "      <td>2229.45</td>\n",
              "      <td>523.12</td>\n",
              "      <td>44.020024</td>\n",
              "      <td>65.060941</td>\n",
              "    </tr>\n",
              "    <tr>\n",
              "      <th>id0000004</th>\n",
              "      <td>Lana Albina de Lemos Mumy</td>\n",
              "      <td>Fem</td>\n",
              "      <td>1993-05-03</td>\n",
              "      <td>28</td>\n",
              "      <td>cobbangela@hotmail.com</td>\n",
              "      <td>(Decimal('-40.8557635'), Decimal('-2.936099'))</td>\n",
              "      <td>Estate manager/land agent</td>\n",
              "      <td>DF</td>\n",
              "      <td>$99878.74</td>\n",
              "      <td>Agressivo</td>\n",
              "      <td>NaN</td>\n",
              "      <td>5258.69</td>\n",
              "      <td>3723.10</td>\n",
              "      <td>NaN</td>\n",
              "      <td>5933.91</td>\n",
              "      <td>NaN</td>\n",
              "      <td>486.05</td>\n",
              "      <td>25.597924</td>\n",
              "      <td>86.548918</td>\n",
              "    </tr>\n",
              "    <tr>\n",
              "      <th>id0000005</th>\n",
              "      <td>Rose Elisângela Vyrnium de Moura</td>\n",
              "      <td>Fem</td>\n",
              "      <td>1984-06-10</td>\n",
              "      <td>37</td>\n",
              "      <td>crawfordcraig@yahoo.com</td>\n",
              "      <td>(Decimal('-20.2620885'), Decimal('104.349223'))</td>\n",
              "      <td>Chartered public finance accountant</td>\n",
              "      <td>MS</td>\n",
              "      <td>$188.01</td>\n",
              "      <td>Conservador</td>\n",
              "      <td>1505.16</td>\n",
              "      <td>6415.30</td>\n",
              "      <td>3462.67</td>\n",
              "      <td>30841.35</td>\n",
              "      <td>6044.86</td>\n",
              "      <td>2198.89</td>\n",
              "      <td>512.98</td>\n",
              "      <td>14.463307</td>\n",
              "      <td>33.566292</td>\n",
              "    </tr>\n",
              "    <tr>\n",
              "      <th>...</th>\n",
              "      <td>...</td>\n",
              "      <td>...</td>\n",
              "      <td>...</td>\n",
              "      <td>...</td>\n",
              "      <td>...</td>\n",
              "      <td>...</td>\n",
              "      <td>...</td>\n",
              "      <td>...</td>\n",
              "      <td>...</td>\n",
              "      <td>...</td>\n",
              "      <td>...</td>\n",
              "      <td>...</td>\n",
              "      <td>...</td>\n",
              "      <td>...</td>\n",
              "      <td>...</td>\n",
              "      <td>...</td>\n",
              "      <td>...</td>\n",
              "      <td>...</td>\n",
              "      <td>...</td>\n",
              "    </tr>\n",
              "    <tr>\n",
              "      <th>id0038750</th>\n",
              "      <td>Beatriz Maísa de Miranda Milani</td>\n",
              "      <td>Fem</td>\n",
              "      <td>1999-02-20</td>\n",
              "      <td>22</td>\n",
              "      <td>mark47@gmail.com</td>\n",
              "      <td>(Decimal('-23.8494875'), Decimal('-91.561304'))</td>\n",
              "      <td>Further education lecturer</td>\n",
              "      <td>RS</td>\n",
              "      <td>$4993.49</td>\n",
              "      <td>Moderado</td>\n",
              "      <td>1001.01</td>\n",
              "      <td>5561.55</td>\n",
              "      <td>NaN</td>\n",
              "      <td>8454.99</td>\n",
              "      <td>NaN</td>\n",
              "      <td>2191.78</td>\n",
              "      <td>489.76</td>\n",
              "      <td>66.644257</td>\n",
              "      <td>6.462871</td>\n",
              "    </tr>\n",
              "    <tr>\n",
              "      <th>id0038751</th>\n",
              "      <td>Juan dos Santos</td>\n",
              "      <td>Masc</td>\n",
              "      <td>1999-07-10</td>\n",
              "      <td>22</td>\n",
              "      <td>greggnguyen@hotmail.com</td>\n",
              "      <td>(Decimal('-7.8876355'), Decimal('155.835880'))</td>\n",
              "      <td>Adult guidance worker</td>\n",
              "      <td>PI</td>\n",
              "      <td>$41218.63</td>\n",
              "      <td>Moderado</td>\n",
              "      <td>1532.51</td>\n",
              "      <td>5102.84</td>\n",
              "      <td>3097.50</td>\n",
              "      <td>11243.08</td>\n",
              "      <td>4692.11</td>\n",
              "      <td>2368.93</td>\n",
              "      <td>496.02</td>\n",
              "      <td>96.987294</td>\n",
              "      <td>72.333030</td>\n",
              "    </tr>\n",
              "    <tr>\n",
              "      <th>id0038752</th>\n",
              "      <td>Severino Edson de Viana Loase</td>\n",
              "      <td>Masc</td>\n",
              "      <td>1981-12-01</td>\n",
              "      <td>40</td>\n",
              "      <td>cindy11@yahoo.com</td>\n",
              "      <td>(Decimal('-52.1338005'), Decimal('-59.715325'))</td>\n",
              "      <td>Arts development officer</td>\n",
              "      <td>PR</td>\n",
              "      <td>$32.41</td>\n",
              "      <td>Agressivo</td>\n",
              "      <td>1163.90</td>\n",
              "      <td>4911.63</td>\n",
              "      <td>3746.62</td>\n",
              "      <td>NaN</td>\n",
              "      <td>6733.79</td>\n",
              "      <td>2338.43</td>\n",
              "      <td>504.32</td>\n",
              "      <td>32.139610</td>\n",
              "      <td>22.742974</td>\n",
              "    </tr>\n",
              "    <tr>\n",
              "      <th>id0038753</th>\n",
              "      <td>Kim Mooshi</td>\n",
              "      <td>Masc</td>\n",
              "      <td>1999-12-06</td>\n",
              "      <td>22</td>\n",
              "      <td>mcdonaldmario@gmail.com</td>\n",
              "      <td>(Decimal('-81.2874995'), Decimal('-28.805800'))</td>\n",
              "      <td>Production manager</td>\n",
              "      <td>RJ</td>\n",
              "      <td>$914.52</td>\n",
              "      <td>Conservador</td>\n",
              "      <td>NaN</td>\n",
              "      <td>5532.35</td>\n",
              "      <td>2861.32</td>\n",
              "      <td>NaN</td>\n",
              "      <td>4921.77</td>\n",
              "      <td>2024.00</td>\n",
              "      <td>500.65</td>\n",
              "      <td>98.385080</td>\n",
              "      <td>56.611838</td>\n",
              "    </tr>\n",
              "    <tr>\n",
              "      <th>id0038754</th>\n",
              "      <td>Vinícius Arnaldo de Pereira Mendes</td>\n",
              "      <td>Masc</td>\n",
              "      <td>2003-09-13</td>\n",
              "      <td>18</td>\n",
              "      <td>omartinez@hotmail.com</td>\n",
              "      <td>(Decimal('-37.248521'), Decimal('6.033254'))</td>\n",
              "      <td>Pension scheme manager</td>\n",
              "      <td>AL</td>\n",
              "      <td>$29076.19</td>\n",
              "      <td>Moderado</td>\n",
              "      <td>981.62</td>\n",
              "      <td>4825.10</td>\n",
              "      <td>NaN</td>\n",
              "      <td>18085.88</td>\n",
              "      <td>5161.07</td>\n",
              "      <td>2257.66</td>\n",
              "      <td>507.95</td>\n",
              "      <td>29.660050</td>\n",
              "      <td>47.371606</td>\n",
              "    </tr>\n",
              "  </tbody>\n",
              "</table>\n",
              "<p>38754 rows × 19 columns</p>\n",
              "</div>"
            ],
            "text/plain": [
              "                                         Nome  Sexo        Nasc  Idade  \\\n",
              "id                                                                       \n",
              "id0000001               Eunice Hellen do Vale   Fem  1970-11-12     51   \n",
              "id0000002     Sebastião Castelo Branco Júnior  Masc  2019-12-10      2   \n",
              "id0000003           Romildo Fábio de Carvalho  Masc  2015-12-28      6   \n",
              "id0000004           Lana Albina de Lemos Mumy   Fem  1993-05-03     28   \n",
              "id0000005    Rose Elisângela Vyrnium de Moura   Fem  1984-06-10     37   \n",
              "...                                       ...   ...         ...    ...   \n",
              "id0038750     Beatriz Maísa de Miranda Milani   Fem  1999-02-20     22   \n",
              "id0038751                     Juan dos Santos  Masc  1999-07-10     22   \n",
              "id0038752       Severino Edson de Viana Loase  Masc  1981-12-01     40   \n",
              "id0038753                          Kim Mooshi  Masc  1999-12-06     22   \n",
              "id0038754  Vinícius Arnaldo de Pereira Mendes  Masc  2003-09-13     18   \n",
              "\n",
              "                             Email  \\\n",
              "id                                   \n",
              "id0000001         djones@yahoo.com   \n",
              "id0000002   barnesandrea@yahoo.com   \n",
              "id0000003  walkermichael@yahoo.com   \n",
              "id0000004   cobbangela@hotmail.com   \n",
              "id0000005  crawfordcraig@yahoo.com   \n",
              "...                            ...   \n",
              "id0038750         mark47@gmail.com   \n",
              "id0038751  greggnguyen@hotmail.com   \n",
              "id0038752        cindy11@yahoo.com   \n",
              "id0038753  mcdonaldmario@gmail.com   \n",
              "id0038754    omartinez@hotmail.com   \n",
              "\n",
              "                                                  Lat_long  \\\n",
              "id                                                           \n",
              "id0000001   (Decimal('24.7024355'), Decimal('-28.038258'))   \n",
              "id0000002   (Decimal('21.8589875'), Decimal('122.830566'))   \n",
              "id0000003   (Decimal('-28.2161525'), Decimal('97.140529'))   \n",
              "id0000004   (Decimal('-40.8557635'), Decimal('-2.936099'))   \n",
              "id0000005  (Decimal('-20.2620885'), Decimal('104.349223'))   \n",
              "...                                                    ...   \n",
              "id0038750  (Decimal('-23.8494875'), Decimal('-91.561304'))   \n",
              "id0038751   (Decimal('-7.8876355'), Decimal('155.835880'))   \n",
              "id0038752  (Decimal('-52.1338005'), Decimal('-59.715325'))   \n",
              "id0038753  (Decimal('-81.2874995'), Decimal('-28.805800'))   \n",
              "id0038754     (Decimal('-37.248521'), Decimal('6.033254'))   \n",
              "\n",
              "                                             Job Estado    Salario  \\\n",
              "id                                                                   \n",
              "id0000001                       Technical author     TO     $63.67   \n",
              "id0000002                   Biochemist, clinical     DF     $21.96   \n",
              "id0000003  Development worker, international aid     DF  $62497.64   \n",
              "id0000004              Estate manager/land agent     DF  $99878.74   \n",
              "id0000005    Chartered public finance accountant     MS    $188.01   \n",
              "...                                          ...    ...        ...   \n",
              "id0038750             Further education lecturer     RS   $4993.49   \n",
              "id0038751                  Adult guidance worker     PI  $41218.63   \n",
              "id0038752               Arts development officer     PR     $32.41   \n",
              "id0038753                     Production manager     RJ    $914.52   \n",
              "id0038754                 Pension scheme manager     AL  $29076.19   \n",
              "\n",
              "                Perfil  Ativo01  Ativo02  Ativo03   Ativo04  Ativo05  Ativo06  \\\n",
              "id                                                                              \n",
              "id0000001     Moderado  1174.27  4980.98  2638.24       NaN  4480.91  2329.72   \n",
              "id0000002     Moderado   842.12  5646.09  3336.07       NaN  5624.22  2669.98   \n",
              "id0000003    Agressivo   818.81  5516.52  3396.64       NaN  5033.83  2229.45   \n",
              "id0000004    Agressivo      NaN  5258.69  3723.10       NaN  5933.91      NaN   \n",
              "id0000005  Conservador  1505.16  6415.30  3462.67  30841.35  6044.86  2198.89   \n",
              "...                ...      ...      ...      ...       ...      ...      ...   \n",
              "id0038750     Moderado  1001.01  5561.55      NaN   8454.99      NaN  2191.78   \n",
              "id0038751     Moderado  1532.51  5102.84  3097.50  11243.08  4692.11  2368.93   \n",
              "id0038752    Agressivo  1163.90  4911.63  3746.62       NaN  6733.79  2338.43   \n",
              "id0038753  Conservador      NaN  5532.35  2861.32       NaN  4921.77  2024.00   \n",
              "id0038754     Moderado   981.62  4825.10      NaN  18085.88  5161.07  2257.66   \n",
              "\n",
              "           Ativo07      Nota1      Nota2  \n",
              "id                                        \n",
              "id0000001   480.72  79.600372   9.802620  \n",
              "id0000002   504.17  44.406893  90.512871  \n",
              "id0000003   523.12  44.020024  65.060941  \n",
              "id0000004   486.05  25.597924  86.548918  \n",
              "id0000005   512.98  14.463307  33.566292  \n",
              "...            ...        ...        ...  \n",
              "id0038750   489.76  66.644257   6.462871  \n",
              "id0038751   496.02  96.987294  72.333030  \n",
              "id0038752   504.32  32.139610  22.742974  \n",
              "id0038753   500.65  98.385080  56.611838  \n",
              "id0038754   507.95  29.660050  47.371606  \n",
              "\n",
              "[38754 rows x 19 columns]"
            ]
          },
          "execution_count": 73,
          "metadata": {},
          "output_type": "execute_result"
        }
      ],
      "source": [
        "df = df.sort_values(by=['id'], ascending=True)\n",
        "df = df.set_index('id')\n",
        "df"
      ]
    },
    {
      "cell_type": "markdown",
      "id": "c22a9a29",
      "metadata": {
        "id": "c22a9a29"
      },
      "source": [
        "## 6 - Faça uma análise dos dados faltantes e trate-os\n",
        "\n",
        "Mostre todas as colunas com dados faltantes, sua quantidade/porcentagem e como tratar (preencher) cada uma delas explicando sua estratégia"
      ]
    },
    {
      "cell_type": "code",
      "execution_count": null,
      "id": "c4bb5d14",
      "metadata": {
        "id": "c4bb5d14"
      },
      "outputs": [],
      "source": []
    },
    {
      "cell_type": "markdown",
      "id": "85ae4e81",
      "metadata": {
        "id": "85ae4e81"
      },
      "source": [
        "## 7 - Manipule os dados a seguir:\n",
        "- Criar coluna \"Total\" somando o valor de todos os ativos por investidor\n",
        "- Criar coluna \"Media\" com a média das notas 1 e 2\n",
        "- Criar coluna \"Dominio\" com apenas o domínio do email (dica: separar por @)\n",
        "- Mudar o nome da coluna \"Salário\" para \"Renda\" e tratar a coluna (sem caracter $ e tipo numérica)\n",
        "- Mudar os dados da coluna \"Sexo\" para Masculino e Feminino (tente usar o map)\n",
        "- Transformar os dados da coluna Media em inteiro\n",
        "- Criar coluna \"NPS\" onde o investidor é promotor se a média das notas é maior igual a 80, neutro se a média estiver entre 50 e 80, e detrator se for abaixo de 50\n"
      ]
    },
    {
      "cell_type": "code",
      "execution_count": null,
      "id": "0570d688",
      "metadata": {
        "id": "0570d688"
      },
      "outputs": [],
      "source": []
    },
    {
      "cell_type": "markdown",
      "id": "767fc018",
      "metadata": {
        "id": "767fc018"
      },
      "source": [
        "## 8 - Calcule os seguintes dados\n",
        "- Calcule o total investido em cada coluna Ativo (tente usar o apply)\n",
        "- Qual o menor valor investido em cada ativo?\n",
        "- Mostre a média e desvio padrão de cada ativo\n",
        "- Qual a idade do investidor mais velho?\n",
        "- Qual a mediana da coluna Média?"
      ]
    },
    {
      "cell_type": "code",
      "execution_count": null,
      "id": "992d886b",
      "metadata": {
        "id": "992d886b"
      },
      "outputs": [],
      "source": []
    },
    {
      "cell_type": "markdown",
      "id": "0f074caf",
      "metadata": {
        "id": "0f074caf"
      },
      "source": [
        "## 9 - Responder as perguntas abaixo\n",
        "\n",
        "- Quantos investidores são promotores?\n",
        "- Quantos investidores são do sexo feminino?\n",
        "- Quantos investidores investiram mais de 16000 no Ativo04?\n",
        "- Quantos investidores investiram mais de 16000 no Ativo04 e menos de 5000 no Ativo05?\n",
        "- Quantos investidores do sexo feminino tem mais de 25 anos e investiu menos de 10000? (bonus: por que esse dado seria importante para a estratégia da nossa empresa?\n",
        "\n",
        "- Quantos investidores tem em cada estado (dica: use groupby)\n",
        "- Qual é a soma do total investido por cada estado?\n",
        "- Como os investidores se distribuem em promotores, detratores e neutros?\n",
        "- Qual é a média do total investido por promotores, detratores e neutros?\n"
      ]
    },
    {
      "cell_type": "code",
      "execution_count": null,
      "id": "G6L0Qjjgyz1L",
      "metadata": {
        "id": "G6L0Qjjgyz1L"
      },
      "outputs": [],
      "source": []
    }
  ],
  "metadata": {
    "colab": {
      "provenance": []
    },
    "kernelspec": {
      "display_name": "Python 3",
      "language": "python",
      "name": "python3"
    },
    "language_info": {
      "codemirror_mode": {
        "name": "ipython",
        "version": 3
      },
      "file_extension": ".py",
      "mimetype": "text/x-python",
      "name": "python",
      "nbconvert_exporter": "python",
      "pygments_lexer": "ipython3",
      "version": "3.11.2"
    },
    "varInspector": {
      "cols": {
        "lenName": 16,
        "lenType": 16,
        "lenVar": 40
      },
      "kernels_config": {
        "python": {
          "delete_cmd_postfix": "",
          "delete_cmd_prefix": "del ",
          "library": "var_list.py",
          "varRefreshCmd": "print(var_dic_list())"
        },
        "r": {
          "delete_cmd_postfix": ") ",
          "delete_cmd_prefix": "rm(",
          "library": "var_list.r",
          "varRefreshCmd": "cat(var_dic_list()) "
        }
      },
      "types_to_exclude": [
        "module",
        "function",
        "builtin_function_or_method",
        "instance",
        "_Feature"
      ],
      "window_display": false
    }
  },
  "nbformat": 4,
  "nbformat_minor": 5
}
