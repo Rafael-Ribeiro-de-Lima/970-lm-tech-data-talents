{
  "cells": [
    {
      "attachments": {},
      "cell_type": "markdown",
      "metadata": {
        "id": "tbL9CEDCelXo"
      },
      "source": [
        "# Projeto Final - Machine Learning I"
      ]
    },
    {
      "attachments": {},
      "cell_type": "markdown",
      "metadata": {
        "id": "7HaPzfREelXu"
      },
      "source": [
        "## Sobre o projeto\n",
        "\n",
        "- Dataset obtido no [Kaggle](https://www.kaggle.com/datasets/shrutimechlearn/churn-modelling)\n",
        "- Os dados serão utilizados para criar modelos de classificação\n",
        "- Serão apresentados 5 algoritmos diferentes (escolher): KNN, árvore de decisão, Random Forest, Gradient Boosting, Regressão Logística\n",
        "- A avaliação dos modelos será realizada por meio de 4 métricas: Precisão, Recall, F1 Score, Acurácia"
      ]
    },
    {
      "attachments": {},
      "cell_type": "markdown",
      "metadata": {
        "id": "pzxvvIVHelXu"
      },
      "source": [
        "## Etapas iniciais"
      ]
    },
    {
      "attachments": {},
      "cell_type": "markdown",
      "metadata": {
        "id": "xSDfSpwHelXv"
      },
      "source": [
        "**Importando as bibliotecas**"
      ]
    },
    {
      "cell_type": "code",
      "execution_count": 219,
      "metadata": {
        "id": "F4B62t4helXv"
      },
      "outputs": [],
      "source": [
        "import pandas as pd\n",
        "import numpy as np\n",
        "import seaborn as sns\n",
        "import matplotlib.pyplot as plt"
      ]
    },
    {
      "attachments": {},
      "cell_type": "markdown",
      "metadata": {
        "id": "ucYPC6d3elXw"
      },
      "source": [
        "**Abrindo o arquivo**"
      ]
    },
    {
      "cell_type": "code",
      "execution_count": 220,
      "metadata": {
        "colab": {
          "base_uri": "https://localhost:8080/",
          "height": 270
        },
        "id": "IdJ1qjWFelXx",
        "outputId": "972ea2ca-17ef-4c7a-bd2c-58b090d438e4"
      },
      "outputs": [
        {
          "data": {
            "text/html": [
              "<div>\n",
              "<style scoped>\n",
              "    .dataframe tbody tr th:only-of-type {\n",
              "        vertical-align: middle;\n",
              "    }\n",
              "\n",
              "    .dataframe tbody tr th {\n",
              "        vertical-align: top;\n",
              "    }\n",
              "\n",
              "    .dataframe thead th {\n",
              "        text-align: right;\n",
              "    }\n",
              "</style>\n",
              "<table border=\"1\" class=\"dataframe\">\n",
              "  <thead>\n",
              "    <tr style=\"text-align: right;\">\n",
              "      <th></th>\n",
              "      <th>RowNumber</th>\n",
              "      <th>CustomerId</th>\n",
              "      <th>Surname</th>\n",
              "      <th>CreditScore</th>\n",
              "      <th>Geography</th>\n",
              "      <th>Gender</th>\n",
              "      <th>Age</th>\n",
              "      <th>Tenure</th>\n",
              "      <th>Balance</th>\n",
              "      <th>NumOfProducts</th>\n",
              "      <th>HasCrCard</th>\n",
              "      <th>IsActiveMember</th>\n",
              "      <th>EstimatedSalary</th>\n",
              "      <th>Exited</th>\n",
              "    </tr>\n",
              "  </thead>\n",
              "  <tbody>\n",
              "    <tr>\n",
              "      <th>0</th>\n",
              "      <td>1</td>\n",
              "      <td>15634602</td>\n",
              "      <td>Hargrave</td>\n",
              "      <td>619</td>\n",
              "      <td>France</td>\n",
              "      <td>Female</td>\n",
              "      <td>42</td>\n",
              "      <td>2</td>\n",
              "      <td>0.00</td>\n",
              "      <td>1</td>\n",
              "      <td>1</td>\n",
              "      <td>1</td>\n",
              "      <td>101348.88</td>\n",
              "      <td>1</td>\n",
              "    </tr>\n",
              "    <tr>\n",
              "      <th>1</th>\n",
              "      <td>2</td>\n",
              "      <td>15647311</td>\n",
              "      <td>Hill</td>\n",
              "      <td>608</td>\n",
              "      <td>Spain</td>\n",
              "      <td>Female</td>\n",
              "      <td>41</td>\n",
              "      <td>1</td>\n",
              "      <td>83807.86</td>\n",
              "      <td>1</td>\n",
              "      <td>0</td>\n",
              "      <td>1</td>\n",
              "      <td>112542.58</td>\n",
              "      <td>0</td>\n",
              "    </tr>\n",
              "    <tr>\n",
              "      <th>2</th>\n",
              "      <td>3</td>\n",
              "      <td>15619304</td>\n",
              "      <td>Onio</td>\n",
              "      <td>502</td>\n",
              "      <td>France</td>\n",
              "      <td>Female</td>\n",
              "      <td>42</td>\n",
              "      <td>8</td>\n",
              "      <td>159660.80</td>\n",
              "      <td>3</td>\n",
              "      <td>1</td>\n",
              "      <td>0</td>\n",
              "      <td>113931.57</td>\n",
              "      <td>1</td>\n",
              "    </tr>\n",
              "    <tr>\n",
              "      <th>3</th>\n",
              "      <td>4</td>\n",
              "      <td>15701354</td>\n",
              "      <td>Boni</td>\n",
              "      <td>699</td>\n",
              "      <td>France</td>\n",
              "      <td>Female</td>\n",
              "      <td>39</td>\n",
              "      <td>1</td>\n",
              "      <td>0.00</td>\n",
              "      <td>2</td>\n",
              "      <td>0</td>\n",
              "      <td>0</td>\n",
              "      <td>93826.63</td>\n",
              "      <td>0</td>\n",
              "    </tr>\n",
              "    <tr>\n",
              "      <th>4</th>\n",
              "      <td>5</td>\n",
              "      <td>15737888</td>\n",
              "      <td>Mitchell</td>\n",
              "      <td>850</td>\n",
              "      <td>Spain</td>\n",
              "      <td>Female</td>\n",
              "      <td>43</td>\n",
              "      <td>2</td>\n",
              "      <td>125510.82</td>\n",
              "      <td>1</td>\n",
              "      <td>1</td>\n",
              "      <td>1</td>\n",
              "      <td>79084.10</td>\n",
              "      <td>0</td>\n",
              "    </tr>\n",
              "  </tbody>\n",
              "</table>\n",
              "</div>"
            ],
            "text/plain": [
              "   RowNumber  CustomerId   Surname  CreditScore Geography  Gender  Age   \n",
              "0          1    15634602  Hargrave          619    France  Female   42  \\\n",
              "1          2    15647311      Hill          608     Spain  Female   41   \n",
              "2          3    15619304      Onio          502    France  Female   42   \n",
              "3          4    15701354      Boni          699    France  Female   39   \n",
              "4          5    15737888  Mitchell          850     Spain  Female   43   \n",
              "\n",
              "   Tenure    Balance  NumOfProducts  HasCrCard  IsActiveMember   \n",
              "0       2       0.00              1          1               1  \\\n",
              "1       1   83807.86              1          0               1   \n",
              "2       8  159660.80              3          1               0   \n",
              "3       1       0.00              2          0               0   \n",
              "4       2  125510.82              1          1               1   \n",
              "\n",
              "   EstimatedSalary  Exited  \n",
              "0        101348.88       1  \n",
              "1        112542.58       0  \n",
              "2        113931.57       1  \n",
              "3         93826.63       0  \n",
              "4         79084.10       0  "
            ]
          },
          "execution_count": 220,
          "metadata": {},
          "output_type": "execute_result"
        }
      ],
      "source": [
        "df = pd.read_csv('Churn_Modelling.csv')\n",
        "df.head()"
      ]
    },
    {
      "attachments": {},
      "cell_type": "markdown",
      "metadata": {
        "id": "qPf4XZPxelXy"
      },
      "source": [
        "## Análise exploratória"
      ]
    },
    {
      "attachments": {},
      "cell_type": "markdown",
      "metadata": {
        "id": "aVu7jmK_elXz"
      },
      "source": [
        "**Removendo valores duplicados, caso existam**"
      ]
    },
    {
      "cell_type": "code",
      "execution_count": 221,
      "metadata": {
        "id": "Bd6a_KIXelXz"
      },
      "outputs": [],
      "source": [
        "df = df.drop_duplicates()"
      ]
    },
    {
      "attachments": {},
      "cell_type": "markdown",
      "metadata": {
        "id": "Pxn2JnNselX0"
      },
      "source": [
        "**Removendo colunas desnecessárias**"
      ]
    },
    {
      "cell_type": "code",
      "execution_count": 222,
      "metadata": {
        "id": "a7ZeUufkelX0"
      },
      "outputs": [],
      "source": [
        "df = df.drop(columns=['RowNumber', 'CustomerId', 'Surname'])"
      ]
    },
    {
      "attachments": {},
      "cell_type": "markdown",
      "metadata": {
        "id": "H-vEyaB7elX0"
      },
      "source": [
        "**Informações gerais**"
      ]
    },
    {
      "cell_type": "code",
      "execution_count": 223,
      "metadata": {
        "colab": {
          "base_uri": "https://localhost:8080/"
        },
        "id": "WeZ2Iuj4elX0",
        "outputId": "38fc97ac-c38b-46f1-daa9-a3fb1c6e4c7b"
      },
      "outputs": [
        {
          "name": "stdout",
          "output_type": "stream",
          "text": [
            "<class 'pandas.core.frame.DataFrame'>\n",
            "RangeIndex: 10000 entries, 0 to 9999\n",
            "Data columns (total 11 columns):\n",
            " #   Column           Non-Null Count  Dtype  \n",
            "---  ------           --------------  -----  \n",
            " 0   CreditScore      10000 non-null  int64  \n",
            " 1   Geography        10000 non-null  object \n",
            " 2   Gender           10000 non-null  object \n",
            " 3   Age              10000 non-null  int64  \n",
            " 4   Tenure           10000 non-null  int64  \n",
            " 5   Balance          10000 non-null  float64\n",
            " 6   NumOfProducts    10000 non-null  int64  \n",
            " 7   HasCrCard        10000 non-null  int64  \n",
            " 8   IsActiveMember   10000 non-null  int64  \n",
            " 9   EstimatedSalary  10000 non-null  float64\n",
            " 10  Exited           10000 non-null  int64  \n",
            "dtypes: float64(2), int64(7), object(2)\n",
            "memory usage: 859.5+ KB\n"
          ]
        }
      ],
      "source": [
        "df.info()"
      ]
    },
    {
      "attachments": {},
      "cell_type": "markdown",
      "metadata": {
        "id": "-wr4gFMyelX1"
      },
      "source": [
        "**Transformando variáveis categóricas em dummies**"
      ]
    },
    {
      "cell_type": "code",
      "execution_count": 224,
      "metadata": {
        "colab": {
          "base_uri": "https://localhost:8080/"
        },
        "id": "uDMjdld6elX1",
        "outputId": "88029235-f9e1-4158-d308-c6e84edfd8cd"
      },
      "outputs": [
        {
          "data": {
            "text/plain": [
              "Gender\n",
              "Male      5457\n",
              "Female    4543\n",
              "Name: count, dtype: int64"
            ]
          },
          "execution_count": 224,
          "metadata": {},
          "output_type": "execute_result"
        }
      ],
      "source": [
        "df['Gender'].value_counts()"
      ]
    },
    {
      "cell_type": "code",
      "execution_count": 225,
      "metadata": {
        "colab": {
          "base_uri": "https://localhost:8080/"
        },
        "id": "bq1iBzUhelX1",
        "outputId": "ee1a5bfc-a733-4e26-ba3d-dceac7812d90"
      },
      "outputs": [
        {
          "data": {
            "text/plain": [
              "Geography\n",
              "France     5014\n",
              "Germany    2509\n",
              "Spain      2477\n",
              "Name: count, dtype: int64"
            ]
          },
          "execution_count": 225,
          "metadata": {},
          "output_type": "execute_result"
        }
      ],
      "source": [
        "df['Geography'].value_counts()"
      ]
    },
    {
      "cell_type": "code",
      "execution_count": 226,
      "metadata": {
        "colab": {
          "base_uri": "https://localhost:8080/"
        },
        "id": "nPDTN9J4elX1",
        "outputId": "ddf9407a-f51c-4485-d469-c8dc2208011f"
      },
      "outputs": [
        {
          "name": "stdout",
          "output_type": "stream",
          "text": [
            "<class 'pandas.core.frame.DataFrame'>\n",
            "RangeIndex: 10000 entries, 0 to 9999\n",
            "Data columns (total 12 columns):\n",
            " #   Column           Non-Null Count  Dtype  \n",
            "---  ------           --------------  -----  \n",
            " 0   CreditScore      10000 non-null  int64  \n",
            " 1   Age              10000 non-null  int64  \n",
            " 2   Tenure           10000 non-null  int64  \n",
            " 3   Balance          10000 non-null  float64\n",
            " 4   NumOfProducts    10000 non-null  int64  \n",
            " 5   HasCrCard        10000 non-null  int64  \n",
            " 6   IsActiveMember   10000 non-null  int64  \n",
            " 7   EstimatedSalary  10000 non-null  float64\n",
            " 8   Exited           10000 non-null  int64  \n",
            " 9   Male             10000 non-null  bool   \n",
            " 10  Germany          10000 non-null  bool   \n",
            " 11  Spain            10000 non-null  bool   \n",
            "dtypes: bool(3), float64(2), int64(7)\n",
            "memory usage: 732.5 KB\n"
          ]
        }
      ],
      "source": [
        "colunas = ['Gender', 'Geography']\n",
        "for col in colunas:\n",
        "    one_hot = pd.get_dummies(df[col], drop_first=True)\n",
        "    df = df.drop(columns=[col])\n",
        "    df = df.join(one_hot)\n",
        "\n",
        "df.info()"
      ]
    },
    {
      "cell_type": "code",
      "execution_count": 227,
      "metadata": {
        "colab": {
          "base_uri": "https://localhost:8080/"
        },
        "id": "wFedme2ZelX2",
        "outputId": "08ed3660-3deb-465b-f736-10d0b0faf612"
      },
      "outputs": [
        {
          "data": {
            "text/plain": [
              "CreditScore        0\n",
              "Age                0\n",
              "Tenure             0\n",
              "Balance            0\n",
              "NumOfProducts      0\n",
              "HasCrCard          0\n",
              "IsActiveMember     0\n",
              "EstimatedSalary    0\n",
              "Exited             0\n",
              "Male               0\n",
              "Germany            0\n",
              "Spain              0\n",
              "dtype: int64"
            ]
          },
          "execution_count": 227,
          "metadata": {},
          "output_type": "execute_result"
        }
      ],
      "source": [
        "df.isna().sum()"
      ]
    },
    {
      "cell_type": "code",
      "execution_count": 228,
      "metadata": {
        "colab": {
          "base_uri": "https://localhost:8080/",
          "height": 270
        },
        "id": "ip3oWcwxelX2",
        "outputId": "631f362d-8a74-451e-bf60-3a3b32864085"
      },
      "outputs": [
        {
          "data": {
            "text/html": [
              "<div>\n",
              "<style scoped>\n",
              "    .dataframe tbody tr th:only-of-type {\n",
              "        vertical-align: middle;\n",
              "    }\n",
              "\n",
              "    .dataframe tbody tr th {\n",
              "        vertical-align: top;\n",
              "    }\n",
              "\n",
              "    .dataframe thead th {\n",
              "        text-align: right;\n",
              "    }\n",
              "</style>\n",
              "<table border=\"1\" class=\"dataframe\">\n",
              "  <thead>\n",
              "    <tr style=\"text-align: right;\">\n",
              "      <th></th>\n",
              "      <th>CreditScore</th>\n",
              "      <th>Age</th>\n",
              "      <th>Tenure</th>\n",
              "      <th>Balance</th>\n",
              "      <th>NumOfProducts</th>\n",
              "      <th>HasCrCard</th>\n",
              "      <th>IsActiveMember</th>\n",
              "      <th>EstimatedSalary</th>\n",
              "      <th>Exited</th>\n",
              "      <th>Male</th>\n",
              "      <th>Germany</th>\n",
              "      <th>Spain</th>\n",
              "    </tr>\n",
              "  </thead>\n",
              "  <tbody>\n",
              "    <tr>\n",
              "      <th>0</th>\n",
              "      <td>619</td>\n",
              "      <td>42</td>\n",
              "      <td>2</td>\n",
              "      <td>0.00</td>\n",
              "      <td>1</td>\n",
              "      <td>1</td>\n",
              "      <td>1</td>\n",
              "      <td>101348.88</td>\n",
              "      <td>1</td>\n",
              "      <td>False</td>\n",
              "      <td>False</td>\n",
              "      <td>False</td>\n",
              "    </tr>\n",
              "    <tr>\n",
              "      <th>1</th>\n",
              "      <td>608</td>\n",
              "      <td>41</td>\n",
              "      <td>1</td>\n",
              "      <td>83807.86</td>\n",
              "      <td>1</td>\n",
              "      <td>0</td>\n",
              "      <td>1</td>\n",
              "      <td>112542.58</td>\n",
              "      <td>0</td>\n",
              "      <td>False</td>\n",
              "      <td>False</td>\n",
              "      <td>True</td>\n",
              "    </tr>\n",
              "    <tr>\n",
              "      <th>2</th>\n",
              "      <td>502</td>\n",
              "      <td>42</td>\n",
              "      <td>8</td>\n",
              "      <td>159660.80</td>\n",
              "      <td>3</td>\n",
              "      <td>1</td>\n",
              "      <td>0</td>\n",
              "      <td>113931.57</td>\n",
              "      <td>1</td>\n",
              "      <td>False</td>\n",
              "      <td>False</td>\n",
              "      <td>False</td>\n",
              "    </tr>\n",
              "    <tr>\n",
              "      <th>3</th>\n",
              "      <td>699</td>\n",
              "      <td>39</td>\n",
              "      <td>1</td>\n",
              "      <td>0.00</td>\n",
              "      <td>2</td>\n",
              "      <td>0</td>\n",
              "      <td>0</td>\n",
              "      <td>93826.63</td>\n",
              "      <td>0</td>\n",
              "      <td>False</td>\n",
              "      <td>False</td>\n",
              "      <td>False</td>\n",
              "    </tr>\n",
              "    <tr>\n",
              "      <th>4</th>\n",
              "      <td>850</td>\n",
              "      <td>43</td>\n",
              "      <td>2</td>\n",
              "      <td>125510.82</td>\n",
              "      <td>1</td>\n",
              "      <td>1</td>\n",
              "      <td>1</td>\n",
              "      <td>79084.10</td>\n",
              "      <td>0</td>\n",
              "      <td>False</td>\n",
              "      <td>False</td>\n",
              "      <td>True</td>\n",
              "    </tr>\n",
              "  </tbody>\n",
              "</table>\n",
              "</div>"
            ],
            "text/plain": [
              "   CreditScore  Age  Tenure    Balance  NumOfProducts  HasCrCard   \n",
              "0          619   42       2       0.00              1          1  \\\n",
              "1          608   41       1   83807.86              1          0   \n",
              "2          502   42       8  159660.80              3          1   \n",
              "3          699   39       1       0.00              2          0   \n",
              "4          850   43       2  125510.82              1          1   \n",
              "\n",
              "   IsActiveMember  EstimatedSalary  Exited   Male  Germany  Spain  \n",
              "0               1        101348.88       1  False    False  False  \n",
              "1               1        112542.58       0  False    False   True  \n",
              "2               0        113931.57       1  False    False  False  \n",
              "3               0         93826.63       0  False    False  False  \n",
              "4               1         79084.10       0  False    False   True  "
            ]
          },
          "execution_count": 228,
          "metadata": {},
          "output_type": "execute_result"
        }
      ],
      "source": [
        "df.head()"
      ]
    },
    {
      "attachments": {},
      "cell_type": "markdown",
      "metadata": {
        "id": "nfZz6FPJelX2"
      },
      "source": [
        "**Distribuição das variáveis**"
      ]
    },
    {
      "cell_type": "code",
      "execution_count": 229,
      "metadata": {
        "colab": {
          "base_uri": "https://localhost:8080/",
          "height": 426
        },
        "id": "EMqEZ3OwelX2",
        "outputId": "c03130f7-f4d0-4af5-fc2b-41be0576b44e"
      },
      "outputs": [
        {
          "data": {
            "text/html": [
              "<div>\n",
              "<style scoped>\n",
              "    .dataframe tbody tr th:only-of-type {\n",
              "        vertical-align: middle;\n",
              "    }\n",
              "\n",
              "    .dataframe tbody tr th {\n",
              "        vertical-align: top;\n",
              "    }\n",
              "\n",
              "    .dataframe thead th {\n",
              "        text-align: right;\n",
              "    }\n",
              "</style>\n",
              "<table border=\"1\" class=\"dataframe\">\n",
              "  <thead>\n",
              "    <tr style=\"text-align: right;\">\n",
              "      <th></th>\n",
              "      <th>count</th>\n",
              "      <th>mean</th>\n",
              "      <th>std</th>\n",
              "      <th>min</th>\n",
              "      <th>25%</th>\n",
              "      <th>50%</th>\n",
              "      <th>75%</th>\n",
              "      <th>max</th>\n",
              "    </tr>\n",
              "  </thead>\n",
              "  <tbody>\n",
              "    <tr>\n",
              "      <th>CreditScore</th>\n",
              "      <td>10000.0</td>\n",
              "      <td>650.528800</td>\n",
              "      <td>96.653299</td>\n",
              "      <td>350.00</td>\n",
              "      <td>584.00</td>\n",
              "      <td>652.000</td>\n",
              "      <td>718.0000</td>\n",
              "      <td>850.00</td>\n",
              "    </tr>\n",
              "    <tr>\n",
              "      <th>Age</th>\n",
              "      <td>10000.0</td>\n",
              "      <td>38.921800</td>\n",
              "      <td>10.487806</td>\n",
              "      <td>18.00</td>\n",
              "      <td>32.00</td>\n",
              "      <td>37.000</td>\n",
              "      <td>44.0000</td>\n",
              "      <td>92.00</td>\n",
              "    </tr>\n",
              "    <tr>\n",
              "      <th>Tenure</th>\n",
              "      <td>10000.0</td>\n",
              "      <td>5.012800</td>\n",
              "      <td>2.892174</td>\n",
              "      <td>0.00</td>\n",
              "      <td>3.00</td>\n",
              "      <td>5.000</td>\n",
              "      <td>7.0000</td>\n",
              "      <td>10.00</td>\n",
              "    </tr>\n",
              "    <tr>\n",
              "      <th>Balance</th>\n",
              "      <td>10000.0</td>\n",
              "      <td>76485.889288</td>\n",
              "      <td>62397.405202</td>\n",
              "      <td>0.00</td>\n",
              "      <td>0.00</td>\n",
              "      <td>97198.540</td>\n",
              "      <td>127644.2400</td>\n",
              "      <td>250898.09</td>\n",
              "    </tr>\n",
              "    <tr>\n",
              "      <th>NumOfProducts</th>\n",
              "      <td>10000.0</td>\n",
              "      <td>1.530200</td>\n",
              "      <td>0.581654</td>\n",
              "      <td>1.00</td>\n",
              "      <td>1.00</td>\n",
              "      <td>1.000</td>\n",
              "      <td>2.0000</td>\n",
              "      <td>4.00</td>\n",
              "    </tr>\n",
              "    <tr>\n",
              "      <th>HasCrCard</th>\n",
              "      <td>10000.0</td>\n",
              "      <td>0.705500</td>\n",
              "      <td>0.455840</td>\n",
              "      <td>0.00</td>\n",
              "      <td>0.00</td>\n",
              "      <td>1.000</td>\n",
              "      <td>1.0000</td>\n",
              "      <td>1.00</td>\n",
              "    </tr>\n",
              "    <tr>\n",
              "      <th>IsActiveMember</th>\n",
              "      <td>10000.0</td>\n",
              "      <td>0.515100</td>\n",
              "      <td>0.499797</td>\n",
              "      <td>0.00</td>\n",
              "      <td>0.00</td>\n",
              "      <td>1.000</td>\n",
              "      <td>1.0000</td>\n",
              "      <td>1.00</td>\n",
              "    </tr>\n",
              "    <tr>\n",
              "      <th>EstimatedSalary</th>\n",
              "      <td>10000.0</td>\n",
              "      <td>100090.239881</td>\n",
              "      <td>57510.492818</td>\n",
              "      <td>11.58</td>\n",
              "      <td>51002.11</td>\n",
              "      <td>100193.915</td>\n",
              "      <td>149388.2475</td>\n",
              "      <td>199992.48</td>\n",
              "    </tr>\n",
              "    <tr>\n",
              "      <th>Exited</th>\n",
              "      <td>10000.0</td>\n",
              "      <td>0.203700</td>\n",
              "      <td>0.402769</td>\n",
              "      <td>0.00</td>\n",
              "      <td>0.00</td>\n",
              "      <td>0.000</td>\n",
              "      <td>0.0000</td>\n",
              "      <td>1.00</td>\n",
              "    </tr>\n",
              "  </tbody>\n",
              "</table>\n",
              "</div>"
            ],
            "text/plain": [
              "                   count           mean           std     min       25%   \n",
              "CreditScore      10000.0     650.528800     96.653299  350.00    584.00  \\\n",
              "Age              10000.0      38.921800     10.487806   18.00     32.00   \n",
              "Tenure           10000.0       5.012800      2.892174    0.00      3.00   \n",
              "Balance          10000.0   76485.889288  62397.405202    0.00      0.00   \n",
              "NumOfProducts    10000.0       1.530200      0.581654    1.00      1.00   \n",
              "HasCrCard        10000.0       0.705500      0.455840    0.00      0.00   \n",
              "IsActiveMember   10000.0       0.515100      0.499797    0.00      0.00   \n",
              "EstimatedSalary  10000.0  100090.239881  57510.492818   11.58  51002.11   \n",
              "Exited           10000.0       0.203700      0.402769    0.00      0.00   \n",
              "\n",
              "                        50%          75%        max  \n",
              "CreditScore         652.000     718.0000     850.00  \n",
              "Age                  37.000      44.0000      92.00  \n",
              "Tenure                5.000       7.0000      10.00  \n",
              "Balance           97198.540  127644.2400  250898.09  \n",
              "NumOfProducts         1.000       2.0000       4.00  \n",
              "HasCrCard             1.000       1.0000       1.00  \n",
              "IsActiveMember        1.000       1.0000       1.00  \n",
              "EstimatedSalary  100193.915  149388.2475  199992.48  \n",
              "Exited                0.000       0.0000       1.00  "
            ]
          },
          "execution_count": 229,
          "metadata": {},
          "output_type": "execute_result"
        }
      ],
      "source": [
        "df.describe().T"
      ]
    },
    {
      "attachments": {},
      "cell_type": "markdown",
      "metadata": {
        "id": "KAkssJCfelX3"
      },
      "source": [
        "**Distribuição da variável alvo 'Exited'**"
      ]
    },
    {
      "cell_type": "code",
      "execution_count": 230,
      "metadata": {
        "colab": {
          "base_uri": "https://localhost:8080/",
          "height": 544
        },
        "id": "eOpl0K3felX3",
        "outputId": "ac052e06-e723-4fee-c5f4-08060a79e4da"
      },
      "outputs": [
        {
          "data": {
            "image/png": "[encoded data removed]",
            "text/plain": [
              "<Figure size 640x480 with 1 Axes>"
            ]
          },
          "metadata": {},
          "output_type": "display_data"
        }
      ],
      "source": [
        "target = df['Exited'].value_counts()\n",
        "ax = sns.countplot(x=df['Exited'])"
      ]
    },
    {
      "attachments": {},
      "cell_type": "markdown",
      "metadata": {
        "id": "aaaSLcjQelX3"
      },
      "source": [
        "### Identificando Outliers"
      ]
    },
    {
      "cell_type": "code",
      "execution_count": 231,
      "metadata": {
        "colab": {
          "base_uri": "https://localhost:8080/",
          "height": 206
        },
        "id": "UAK7xME9elX3",
        "outputId": "184ec26c-1f8f-4e06-ad99-3210da0289bb"
      },
      "outputs": [
        {
          "data": {
            "text/html": [
              "<div>\n",
              "<style scoped>\n",
              "    .dataframe tbody tr th:only-of-type {\n",
              "        vertical-align: middle;\n",
              "    }\n",
              "\n",
              "    .dataframe tbody tr th {\n",
              "        vertical-align: top;\n",
              "    }\n",
              "\n",
              "    .dataframe thead th {\n",
              "        text-align: right;\n",
              "    }\n",
              "</style>\n",
              "<table border=\"1\" class=\"dataframe\">\n",
              "  <thead>\n",
              "    <tr style=\"text-align: right;\">\n",
              "      <th></th>\n",
              "      <th>Balance</th>\n",
              "      <th>EstimatedSalary</th>\n",
              "    </tr>\n",
              "  </thead>\n",
              "  <tbody>\n",
              "    <tr>\n",
              "      <th>0</th>\n",
              "      <td>0.00</td>\n",
              "      <td>101348.88</td>\n",
              "    </tr>\n",
              "    <tr>\n",
              "      <th>1</th>\n",
              "      <td>83807.86</td>\n",
              "      <td>112542.58</td>\n",
              "    </tr>\n",
              "    <tr>\n",
              "      <th>2</th>\n",
              "      <td>159660.80</td>\n",
              "      <td>113931.57</td>\n",
              "    </tr>\n",
              "    <tr>\n",
              "      <th>3</th>\n",
              "      <td>0.00</td>\n",
              "      <td>93826.63</td>\n",
              "    </tr>\n",
              "    <tr>\n",
              "      <th>4</th>\n",
              "      <td>125510.82</td>\n",
              "      <td>79084.10</td>\n",
              "    </tr>\n",
              "  </tbody>\n",
              "</table>\n",
              "</div>"
            ],
            "text/plain": [
              "     Balance  EstimatedSalary\n",
              "0       0.00        101348.88\n",
              "1   83807.86        112542.58\n",
              "2  159660.80        113931.57\n",
              "3       0.00         93826.63\n",
              "4  125510.82         79084.10"
            ]
          },
          "execution_count": 231,
          "metadata": {},
          "output_type": "execute_result"
        }
      ],
      "source": [
        "numeric = ['Balance', \"EstimatedSalary\"]\n",
        "df_numeric = df[numeric]\n",
        "df_numeric.head()"
      ]
    },
    {
      "cell_type": "code",
      "execution_count": 232,
      "metadata": {
        "colab": {
          "base_uri": "https://localhost:8080/",
          "height": 391
        },
        "id": "eD1C71itelX4",
        "outputId": "6c0dbc26-43de-40d6-ebda-3bb9677e0f74"
      },
      "outputs": [
        {
          "data": {
            "image/png": "[encoded data removed]",
            "text/plain": [
              "<Figure size 2000x800 with 2 Axes>"
            ]
          },
          "metadata": {},
          "output_type": "display_data"
        }
      ],
      "source": [
        "plt.figure(figsize=(20, 8))\n",
        "for i in range(len(numeric)):\n",
        "    plt.subplot(1, len(numeric), i + 1)\n",
        "    sns.boxplot(y=df[numeric[i]], color='blue')\n",
        "    plt.tight_layout()"
      ]
    },
    {
      "cell_type": "code",
      "execution_count": 233,
      "metadata": {
        "colab": {
          "base_uri": "https://localhost:8080/"
        },
        "id": "GMFPqdHLelX4",
        "outputId": "a332ba25-7913-4345-c7e3-053f65264259"
      },
      "outputs": [
        {
          "name": "stdout",
          "output_type": "stream",
          "text": [
            "Nenhum outlier na coluna Balance \n",
            "\n",
            "Nenhum outlier na coluna EstimatedSalary \n",
            "\n"
          ]
        }
      ],
      "source": [
        "for col in numeric:\n",
        "    Q1 = df[col].quantile(0.25)\n",
        "    Q3 = df[col].quantile(0.75)\n",
        "    IQR = Q3 - Q1\n",
        "\n",
        "\n",
        "    nilai_min = df[col].min()\n",
        "    nilai_max = df[col].max()\n",
        "    lower_lim = Q1 - (1.5*IQR)\n",
        "    upper_lim = Q3 + (1.5*IQR)\n",
        "\n",
        "    # Outliers\n",
        "    if (nilai_min < lower_lim):\n",
        "        print('Outliers inferiores encontrados na coluna',col,'<', lower_lim,'\\n')\n",
        "        print('Quantiadade de outliers inferiores na coluna',col, ':', len(list(df[df[col] < lower_lim])))\n",
        "    elif (nilai_max > upper_lim):\n",
        "        print('Outliers superiores encontrados na coluna',col,'>', upper_lim,'\\n')\n",
        "        print('Quantiadade de outliers superiores na coluna',col, ':', len(list(df[df[col] > upper_lim])))\n",
        "\n",
        "    else:\n",
        "        print('Nenhum outlier na coluna',col,'\\n')\n"
      ]
    },
    {
      "attachments": {},
      "cell_type": "markdown",
      "metadata": {
        "id": "tLUTSBAQelX4"
      },
      "source": [
        "### Distribuição dos Dados"
      ]
    },
    {
      "cell_type": "code",
      "execution_count": 234,
      "metadata": {
        "colab": {
          "base_uri": "https://localhost:8080/",
          "height": 631
        },
        "id": "C5jFjuGwelX4",
        "outputId": "37e76039-4e16-450f-bce6-f72a1dfd188f"
      },
      "outputs": [
        {
          "name": "stderr",
          "output_type": "stream",
          "text": [
            "C:\\Users\\antph\\AppData\\Local\\Temp\\ipykernel_18512\\3229116523.py:4: UserWarning: \n",
            "\n",
            "`distplot` is a deprecated function and will be removed in seaborn v0.14.0.\n",
            "\n",
            "Please adapt your code to use either `displot` (a figure-level function with\n",
            "similar flexibility) or `histplot` (an axes-level function for histograms).\n",
            "\n",
            "For a guide to updating your code to use the new functions, please see\n",
            "https://gist.github.com/mwaskom/de44147ed2974457ad6372750bbe5751\n",
            "\n",
            "  sns.distplot(df[numeric[i]], color='orange')\n"
          ]
        },
        {
          "name": "stderr",
          "output_type": "stream",
          "text": [
            "C:\\Users\\antph\\AppData\\Local\\Temp\\ipykernel_18512\\3229116523.py:4: UserWarning: \n",
            "\n",
            "`distplot` is a deprecated function and will be removed in seaborn v0.14.0.\n",
            "\n",
            "Please adapt your code to use either `displot` (a figure-level function with\n",
            "similar flexibility) or `histplot` (an axes-level function for histograms).\n",
            "\n",
            "For a guide to updating your code to use the new functions, please see\n",
            "https://gist.github.com/mwaskom/de44147ed2974457ad6372750bbe5751\n",
            "\n",
            "  sns.distplot(df[numeric[i]], color='orange')\n"
          ]
        },
        {
          "data": {
            "image/png": "[encoded data removed]",
            "text/plain": [
              "<Figure size 2000x500 with 2 Axes>"
            ]
          },
          "metadata": {},
          "output_type": "display_data"
        }
      ],
      "source": [
        "plt.figure(figsize=(20,5))\n",
        "for i in range(0,len(numeric)):\n",
        "    plt.subplot(1, len(numeric), i+1)\n",
        "    sns.distplot(df[numeric[i]], color='orange')\n",
        "    plt.tight_layout()"
      ]
    },
    {
      "cell_type": "code",
      "execution_count": 235,
      "metadata": {
        "colab": {
          "base_uri": "https://localhost:8080/",
          "height": 826
        },
        "id": "lUzK0XDYelX4",
        "outputId": "263fbdc7-b5a2-4270-f56a-bb0c942b7510"
      },
      "outputs": [
        {
          "data": {
            "image/png": "[encoded data removed]",
            "text/plain": [
              "<Figure size 2000x1200 with 2 Axes>"
            ]
          },
          "metadata": {},
          "output_type": "display_data"
        }
      ],
      "source": [
        "f = plt.figure(figsize=(20, 12))\n",
        "plt.matshow(df.corr(), fignum=f.number)\n",
        "plt.xticks(range(df.select_dtypes(['number']).shape[1]), df.select_dtypes(['number']).columns, fontsize=14, rotation=45)\n",
        "plt.yticks(range(df.select_dtypes(['number']).shape[1]), df.select_dtypes(['number']).columns, fontsize=14)\n",
        "cb = plt.colorbar()\n",
        "cb.ax.tick_params(labelsize=14)\n",
        "plt.title('Correlation Matrix', fontsize=16);"
      ]
    },
    {
      "cell_type": "code",
      "execution_count": 236,
      "metadata": {
        "id": "SK5RzbiMelX5"
      },
      "outputs": [],
      "source": [
        "df_balance = df[df['Balance'] > 0]\n",
        "\n"
      ]
    },
    {
      "cell_type": "code",
      "execution_count": 237,
      "metadata": {
        "colab": {
          "base_uri": "https://localhost:8080/",
          "height": 631
        },
        "id": "RmBbD79UelX5",
        "outputId": "3ea5afbb-017d-4000-b923-cd42a4ab611e"
      },
      "outputs": [
        {
          "name": "stderr",
          "output_type": "stream",
          "text": [
            "C:\\Users\\antph\\AppData\\Local\\Temp\\ipykernel_18512\\2805474064.py:4: UserWarning: \n",
            "\n",
            "`distplot` is a deprecated function and will be removed in seaborn v0.14.0.\n",
            "\n",
            "Please adapt your code to use either `displot` (a figure-level function with\n",
            "similar flexibility) or `histplot` (an axes-level function for histograms).\n",
            "\n",
            "For a guide to updating your code to use the new functions, please see\n",
            "https://gist.github.com/mwaskom/de44147ed2974457ad6372750bbe5751\n",
            "\n",
            "  sns.distplot(df_balance[numeric[i]], color='orange')\n",
            "C:\\Users\\antph\\AppData\\Local\\Temp\\ipykernel_18512\\2805474064.py:4: UserWarning: \n",
            "\n",
            "`distplot` is a deprecated function and will be removed in seaborn v0.14.0.\n",
            "\n",
            "Please adapt your code to use either `displot` (a figure-level function with\n",
            "similar flexibility) or `histplot` (an axes-level function for histograms).\n",
            "\n",
            "For a guide to updating your code to use the new functions, please see\n",
            "https://gist.github.com/mwaskom/de44147ed2974457ad6372750bbe5751\n",
            "\n",
            "  sns.distplot(df_balance[numeric[i]], color='orange')\n"
          ]
        },
        {
          "data": {
            "image/png": "[encoded data removed]",
            "text/plain": [
              "<Figure size 2000x500 with 2 Axes>"
            ]
          },
          "metadata": {},
          "output_type": "display_data"
        }
      ],
      "source": [
        "plt.figure(figsize=(20,5))\n",
        "for i in range(0,len(numeric)):\n",
        "    plt.subplot(1, len(numeric), i+1)\n",
        "    sns.distplot(df_balance[numeric[i]], color='orange')\n",
        "    plt.tight_layout()\n",
        "    ####"
      ]
    },
    {
      "cell_type": "code",
      "execution_count": 238,
      "metadata": {
        "colab": {
          "base_uri": "https://localhost:8080/",
          "height": 829
        },
        "id": "qIFkQGi3elX5",
        "outputId": "79a3a001-8cf2-4a48-8562-3648f65279b7"
      },
      "outputs": [
        {
          "data": {
            "image/png": "[encoded data removed]",
            "text/plain": [
              "<Figure size 2000x1200 with 2 Axes>"
            ]
          },
          "metadata": {},
          "output_type": "display_data"
        }
      ],
      "source": [
        "f = plt.figure(figsize=(20, 12))\n",
        "plt.matshow(df_balance.corr(), fignum=f.number)\n",
        "plt.xticks(range(df_balance.select_dtypes(['number']).shape[1]), df_balance.select_dtypes(['number']).columns, fontsize=14, rotation=45)\n",
        "plt.yticks(range(df_balance.select_dtypes(['number']).shape[1]), df_balance.select_dtypes(['number']).columns, fontsize=14)\n",
        "cb = plt.colorbar()\n",
        "cb.ax.tick_params(labelsize=14)\n",
        "plt.title('Correlation Matrix', fontsize=16);"
      ]
    },
    {
      "cell_type": "code",
      "execution_count": 239,
      "metadata": {
        "colab": {
          "base_uri": "https://localhost:8080/"
        },
        "id": "1ij5KUmQelX5",
        "outputId": "e59f465e-bf61-41f5-f986-230f05656b44"
      },
      "outputs": [
        {
          "data": {
            "text/plain": [
              "6383"
            ]
          },
          "execution_count": 239,
          "metadata": {},
          "output_type": "execute_result"
        }
      ],
      "source": [
        "df_balance.shape[0]"
      ]
    },
    {
      "attachments": {},
      "cell_type": "markdown",
      "metadata": {
        "id": "ncyldB1xgE3W"
      },
      "source": [
        "# Modelos sem balanceamento dos dados"
      ]
    },
    {
      "cell_type": "code",
      "execution_count": 240,
      "metadata": {
        "id": "ZHxMzFcPgH2X"
      },
      "outputs": [],
      "source": [
        "from sklearn.metrics import confusion_matrix\n",
        "from sklearn.neighbors import KNeighborsClassifier\n",
        "from sklearn.tree import DecisionTreeClassifier\n",
        "from sklearn.metrics import recall_score\n",
        "from sklearn.ensemble import RandomForestClassifier"
      ]
    },
    {
      "cell_type": "code",
      "execution_count": 241,
      "metadata": {
        "colab": {
          "base_uri": "https://localhost:8080/",
          "height": 270
        },
        "id": "gcz4_7_dgSMe",
        "outputId": "5d13a470-f11c-496a-fbb0-fadd6dca5a47"
      },
      "outputs": [
        {
          "data": {
            "text/html": [
              "<div>\n",
              "<style scoped>\n",
              "    .dataframe tbody tr th:only-of-type {\n",
              "        vertical-align: middle;\n",
              "    }\n",
              "\n",
              "    .dataframe tbody tr th {\n",
              "        vertical-align: top;\n",
              "    }\n",
              "\n",
              "    .dataframe thead th {\n",
              "        text-align: right;\n",
              "    }\n",
              "</style>\n",
              "<table border=\"1\" class=\"dataframe\">\n",
              "  <thead>\n",
              "    <tr style=\"text-align: right;\">\n",
              "      <th></th>\n",
              "      <th>CreditScore</th>\n",
              "      <th>Age</th>\n",
              "      <th>Tenure</th>\n",
              "      <th>Balance</th>\n",
              "      <th>NumOfProducts</th>\n",
              "      <th>HasCrCard</th>\n",
              "      <th>IsActiveMember</th>\n",
              "      <th>EstimatedSalary</th>\n",
              "      <th>Exited</th>\n",
              "      <th>Male</th>\n",
              "      <th>Germany</th>\n",
              "      <th>Spain</th>\n",
              "    </tr>\n",
              "  </thead>\n",
              "  <tbody>\n",
              "    <tr>\n",
              "      <th>0</th>\n",
              "      <td>619</td>\n",
              "      <td>42</td>\n",
              "      <td>2</td>\n",
              "      <td>0.00</td>\n",
              "      <td>1</td>\n",
              "      <td>1</td>\n",
              "      <td>1</td>\n",
              "      <td>101348.88</td>\n",
              "      <td>1</td>\n",
              "      <td>False</td>\n",
              "      <td>False</td>\n",
              "      <td>False</td>\n",
              "    </tr>\n",
              "    <tr>\n",
              "      <th>1</th>\n",
              "      <td>608</td>\n",
              "      <td>41</td>\n",
              "      <td>1</td>\n",
              "      <td>83807.86</td>\n",
              "      <td>1</td>\n",
              "      <td>0</td>\n",
              "      <td>1</td>\n",
              "      <td>112542.58</td>\n",
              "      <td>0</td>\n",
              "      <td>False</td>\n",
              "      <td>False</td>\n",
              "      <td>True</td>\n",
              "    </tr>\n",
              "    <tr>\n",
              "      <th>2</th>\n",
              "      <td>502</td>\n",
              "      <td>42</td>\n",
              "      <td>8</td>\n",
              "      <td>159660.80</td>\n",
              "      <td>3</td>\n",
              "      <td>1</td>\n",
              "      <td>0</td>\n",
              "      <td>113931.57</td>\n",
              "      <td>1</td>\n",
              "      <td>False</td>\n",
              "      <td>False</td>\n",
              "      <td>False</td>\n",
              "    </tr>\n",
              "    <tr>\n",
              "      <th>3</th>\n",
              "      <td>699</td>\n",
              "      <td>39</td>\n",
              "      <td>1</td>\n",
              "      <td>0.00</td>\n",
              "      <td>2</td>\n",
              "      <td>0</td>\n",
              "      <td>0</td>\n",
              "      <td>93826.63</td>\n",
              "      <td>0</td>\n",
              "      <td>False</td>\n",
              "      <td>False</td>\n",
              "      <td>False</td>\n",
              "    </tr>\n",
              "    <tr>\n",
              "      <th>4</th>\n",
              "      <td>850</td>\n",
              "      <td>43</td>\n",
              "      <td>2</td>\n",
              "      <td>125510.82</td>\n",
              "      <td>1</td>\n",
              "      <td>1</td>\n",
              "      <td>1</td>\n",
              "      <td>79084.10</td>\n",
              "      <td>0</td>\n",
              "      <td>False</td>\n",
              "      <td>False</td>\n",
              "      <td>True</td>\n",
              "    </tr>\n",
              "  </tbody>\n",
              "</table>\n",
              "</div>"
            ],
            "text/plain": [
              "   CreditScore  Age  Tenure    Balance  NumOfProducts  HasCrCard   \n",
              "0          619   42       2       0.00              1          1  \\\n",
              "1          608   41       1   83807.86              1          0   \n",
              "2          502   42       8  159660.80              3          1   \n",
              "3          699   39       1       0.00              2          0   \n",
              "4          850   43       2  125510.82              1          1   \n",
              "\n",
              "   IsActiveMember  EstimatedSalary  Exited   Male  Germany  Spain  \n",
              "0               1        101348.88       1  False    False  False  \n",
              "1               1        112542.58       0  False    False   True  \n",
              "2               0        113931.57       1  False    False  False  \n",
              "3               0         93826.63       0  False    False  False  \n",
              "4               1         79084.10       0  False    False   True  "
            ]
          },
          "execution_count": 241,
          "metadata": {},
          "output_type": "execute_result"
        }
      ],
      "source": [
        "df.head()"
      ]
    },
    {
      "cell_type": "code",
      "execution_count": 242,
      "metadata": {
        "id": "0VRMKNApgTXb"
      },
      "outputs": [],
      "source": [
        "from sklearn.preprocessing import MinMaxScaler\n",
        "from sklearn.model_selection import train_test_split, GridSearchCV\n",
        "from sklearn.metrics import classification_report"
      ]
    },
    {
      "attachments": {},
      "cell_type": "markdown",
      "metadata": {},
      "source": [
        "Fazendo Scaling dos dados"
      ]
    },
    {
      "cell_type": "code",
      "execution_count": 243,
      "metadata": {
        "id": "yA_3g0dMgyIl"
      },
      "outputs": [],
      "source": [
        "scaler = MinMaxScaler(feature_range= (0,1))\n",
        "X_train, X_test, y_train, y_test = train_test_split(df.drop(columns='Exited'), df.Exited, test_size=0.3, random_state=1)\n",
        "X_train = scaler.fit_transform(X_train)\n",
        "X_test = scaler.transform(X_test)"
      ]
    },
    {
      "cell_type": "code",
      "execution_count": 244,
      "metadata": {
        "colab": {
          "base_uri": "https://localhost:8080/",
          "height": 488
        },
        "id": "WCFwugaXh6dh",
        "outputId": "7a67b28d-da11-45a0-9f27-533165e349c1"
      },
      "outputs": [
        {
          "data": {
            "text/html": [
              "<div>\n",
              "<style scoped>\n",
              "    .dataframe tbody tr th:only-of-type {\n",
              "        vertical-align: middle;\n",
              "    }\n",
              "\n",
              "    .dataframe tbody tr th {\n",
              "        vertical-align: top;\n",
              "    }\n",
              "\n",
              "    .dataframe thead th {\n",
              "        text-align: right;\n",
              "    }\n",
              "</style>\n",
              "<table border=\"1\" class=\"dataframe\">\n",
              "  <thead>\n",
              "    <tr style=\"text-align: right;\">\n",
              "      <th></th>\n",
              "      <th>CreditScore</th>\n",
              "      <th>Age</th>\n",
              "      <th>Tenure</th>\n",
              "      <th>Balance</th>\n",
              "      <th>NumOfProducts</th>\n",
              "      <th>HasCrCard</th>\n",
              "      <th>IsActiveMember</th>\n",
              "      <th>EstimatedSalary</th>\n",
              "      <th>Exited</th>\n",
              "      <th>Male</th>\n",
              "      <th>Germany</th>\n",
              "    </tr>\n",
              "  </thead>\n",
              "  <tbody>\n",
              "    <tr>\n",
              "      <th>0</th>\n",
              "      <td>0.588</td>\n",
              "      <td>0.256757</td>\n",
              "      <td>0.8</td>\n",
              "      <td>0.000000</td>\n",
              "      <td>0.333333</td>\n",
              "      <td>1.0</td>\n",
              "      <td>0.0</td>\n",
              "      <td>0.104449</td>\n",
              "      <td>0.0</td>\n",
              "      <td>0.0</td>\n",
              "      <td>0.0</td>\n",
              "    </tr>\n",
              "    <tr>\n",
              "      <th>1</th>\n",
              "      <td>0.262</td>\n",
              "      <td>0.283784</td>\n",
              "      <td>0.6</td>\n",
              "      <td>0.000000</td>\n",
              "      <td>0.000000</td>\n",
              "      <td>1.0</td>\n",
              "      <td>1.0</td>\n",
              "      <td>0.123003</td>\n",
              "      <td>0.0</td>\n",
              "      <td>0.0</td>\n",
              "      <td>0.0</td>\n",
              "    </tr>\n",
              "    <tr>\n",
              "      <th>2</th>\n",
              "      <td>0.660</td>\n",
              "      <td>0.256757</td>\n",
              "      <td>1.0</td>\n",
              "      <td>0.493452</td>\n",
              "      <td>0.000000</td>\n",
              "      <td>1.0</td>\n",
              "      <td>0.0</td>\n",
              "      <td>0.408673</td>\n",
              "      <td>0.0</td>\n",
              "      <td>0.0</td>\n",
              "      <td>0.0</td>\n",
              "    </tr>\n",
              "    <tr>\n",
              "      <th>3</th>\n",
              "      <td>0.680</td>\n",
              "      <td>0.148649</td>\n",
              "      <td>0.5</td>\n",
              "      <td>0.000000</td>\n",
              "      <td>0.333333</td>\n",
              "      <td>1.0</td>\n",
              "      <td>0.0</td>\n",
              "      <td>0.542759</td>\n",
              "      <td>1.0</td>\n",
              "      <td>0.0</td>\n",
              "      <td>0.0</td>\n",
              "    </tr>\n",
              "    <tr>\n",
              "      <th>4</th>\n",
              "      <td>0.612</td>\n",
              "      <td>0.364865</td>\n",
              "      <td>0.7</td>\n",
              "      <td>0.581644</td>\n",
              "      <td>0.000000</td>\n",
              "      <td>1.0</td>\n",
              "      <td>1.0</td>\n",
              "      <td>0.997105</td>\n",
              "      <td>0.0</td>\n",
              "      <td>0.0</td>\n",
              "      <td>0.0</td>\n",
              "    </tr>\n",
              "    <tr>\n",
              "      <th>...</th>\n",
              "      <td>...</td>\n",
              "      <td>...</td>\n",
              "      <td>...</td>\n",
              "      <td>...</td>\n",
              "      <td>...</td>\n",
              "      <td>...</td>\n",
              "      <td>...</td>\n",
              "      <td>...</td>\n",
              "      <td>...</td>\n",
              "      <td>...</td>\n",
              "      <td>...</td>\n",
              "    </tr>\n",
              "    <tr>\n",
              "      <th>6995</th>\n",
              "      <td>0.542</td>\n",
              "      <td>0.391892</td>\n",
              "      <td>0.7</td>\n",
              "      <td>0.427916</td>\n",
              "      <td>0.000000</td>\n",
              "      <td>1.0</td>\n",
              "      <td>1.0</td>\n",
              "      <td>0.333740</td>\n",
              "      <td>1.0</td>\n",
              "      <td>1.0</td>\n",
              "      <td>0.0</td>\n",
              "    </tr>\n",
              "    <tr>\n",
              "      <th>6996</th>\n",
              "      <td>0.668</td>\n",
              "      <td>0.608108</td>\n",
              "      <td>0.3</td>\n",
              "      <td>0.323820</td>\n",
              "      <td>0.000000</td>\n",
              "      <td>1.0</td>\n",
              "      <td>0.0</td>\n",
              "      <td>0.347968</td>\n",
              "      <td>0.0</td>\n",
              "      <td>1.0</td>\n",
              "      <td>0.0</td>\n",
              "    </tr>\n",
              "    <tr>\n",
              "      <th>6997</th>\n",
              "      <td>0.644</td>\n",
              "      <td>0.364865</td>\n",
              "      <td>0.9</td>\n",
              "      <td>0.000000</td>\n",
              "      <td>0.000000</td>\n",
              "      <td>1.0</td>\n",
              "      <td>1.0</td>\n",
              "      <td>0.459958</td>\n",
              "      <td>0.0</td>\n",
              "      <td>0.0</td>\n",
              "      <td>0.0</td>\n",
              "    </tr>\n",
              "    <tr>\n",
              "      <th>6998</th>\n",
              "      <td>0.626</td>\n",
              "      <td>0.283784</td>\n",
              "      <td>0.8</td>\n",
              "      <td>0.000000</td>\n",
              "      <td>0.333333</td>\n",
              "      <td>1.0</td>\n",
              "      <td>1.0</td>\n",
              "      <td>0.505692</td>\n",
              "      <td>0.0</td>\n",
              "      <td>0.0</td>\n",
              "      <td>0.0</td>\n",
              "    </tr>\n",
              "    <tr>\n",
              "      <th>6999</th>\n",
              "      <td>0.826</td>\n",
              "      <td>0.324324</td>\n",
              "      <td>0.6</td>\n",
              "      <td>0.399209</td>\n",
              "      <td>0.000000</td>\n",
              "      <td>1.0</td>\n",
              "      <td>0.0</td>\n",
              "      <td>0.166957</td>\n",
              "      <td>1.0</td>\n",
              "      <td>1.0</td>\n",
              "      <td>0.0</td>\n",
              "    </tr>\n",
              "  </tbody>\n",
              "</table>\n",
              "<p>7000 rows × 11 columns</p>\n",
              "</div>"
            ],
            "text/plain": [
              "      CreditScore       Age  Tenure   Balance  NumOfProducts  HasCrCard   \n",
              "0           0.588  0.256757     0.8  0.000000       0.333333        1.0  \\\n",
              "1           0.262  0.283784     0.6  0.000000       0.000000        1.0   \n",
              "2           0.660  0.256757     1.0  0.493452       0.000000        1.0   \n",
              "3           0.680  0.148649     0.5  0.000000       0.333333        1.0   \n",
              "4           0.612  0.364865     0.7  0.581644       0.000000        1.0   \n",
              "...           ...       ...     ...       ...            ...        ...   \n",
              "6995        0.542  0.391892     0.7  0.427916       0.000000        1.0   \n",
              "6996        0.668  0.608108     0.3  0.323820       0.000000        1.0   \n",
              "6997        0.644  0.364865     0.9  0.000000       0.000000        1.0   \n",
              "6998        0.626  0.283784     0.8  0.000000       0.333333        1.0   \n",
              "6999        0.826  0.324324     0.6  0.399209       0.000000        1.0   \n",
              "\n",
              "      IsActiveMember  EstimatedSalary  Exited  Male  Germany  \n",
              "0                0.0         0.104449     0.0   0.0      0.0  \n",
              "1                1.0         0.123003     0.0   0.0      0.0  \n",
              "2                0.0         0.408673     0.0   0.0      0.0  \n",
              "3                0.0         0.542759     1.0   0.0      0.0  \n",
              "4                1.0         0.997105     0.0   0.0      0.0  \n",
              "...              ...              ...     ...   ...      ...  \n",
              "6995             1.0         0.333740     1.0   1.0      0.0  \n",
              "6996             0.0         0.347968     0.0   1.0      0.0  \n",
              "6997             1.0         0.459958     0.0   0.0      0.0  \n",
              "6998             1.0         0.505692     0.0   0.0      0.0  \n",
              "6999             0.0         0.166957     1.0   1.0      0.0  \n",
              "\n",
              "[7000 rows x 11 columns]"
            ]
          },
          "execution_count": 244,
          "metadata": {},
          "output_type": "execute_result"
        }
      ],
      "source": [
        "pd.DataFrame(data = X_train, columns = df.columns[:-1])"
      ]
    },
    {
      "cell_type": "code",
      "execution_count": 245,
      "metadata": {
        "id": "9NaxMF9jjAfF"
      },
      "outputs": [],
      "source": [
        "def previsor(modelo,parametros=''):\n",
        "  modelo.fit(X_train, y_train)\n",
        "  modelo_pred = modelo.predict(X_test)\n",
        "  print(classification_report(y_test, modelo_pred))\n",
        "  return modelo_pred"
      ]
    },
    {
      "cell_type": "code",
      "execution_count": 246,
      "metadata": {},
      "outputs": [],
      "source": [
        "#metricas\n",
        "from sklearn.metrics import precision_score,accuracy_score,recall_score,f1_score\n",
        "metricas_db = pd.DataFrame(columns=['Precisão','Recall','F1 Score','Acurácia'],index = ['KNN','Random Forest','Árvore de Decisão','Gradient Boosting','Regressão Logística'])\n",
        "metricas_b = pd.DataFrame(columns=['Precisão','Recall','F1 Score','Acurácia'],index = ['KNN','Random Forest','Árvore de Decisão','Gradient Boosting','Regressão Logística'])"
      ]
    },
    {
      "cell_type": "code",
      "execution_count": 247,
      "metadata": {},
      "outputs": [],
      "source": [
        "def erros(teste,previsao,df,modelo):\n",
        "    df['Precisão'][modelo] = precision_score(teste,previsao)\n",
        "    df['Recall'][modelo] = recall_score(teste,previsao)\n",
        "    df['F1 Score'][modelo] = f1_score(teste,previsao)\n",
        "    df['Acurácia'][modelo] = accuracy_score(teste,previsao)\n",
        "    return df"
      ]
    },
    {
      "attachments": {},
      "cell_type": "markdown",
      "metadata": {},
      "source": [
        "# Modelos treinados com bases desbalanceadas"
      ]
    },
    {
      "cell_type": "code",
      "execution_count": 248,
      "metadata": {
        "colab": {
          "base_uri": "https://localhost:8080/"
        },
        "id": "B_4tui6niQJA",
        "outputId": "d1a737df-fecf-4ea5-db10-f347ec5d1012"
      },
      "outputs": [
        {
          "name": "stdout",
          "output_type": "stream",
          "text": [
            "              precision    recall  f1-score   support\n",
            "\n",
            "           0       0.84      0.92      0.88      2373\n",
            "           1       0.52      0.32      0.40       627\n",
            "\n",
            "    accuracy                           0.80      3000\n",
            "   macro avg       0.68      0.62      0.64      3000\n",
            "weighted avg       0.77      0.80      0.78      3000\n",
            "\n"
          ]
        }
      ],
      "source": [
        "model = KNeighborsClassifier(n_neighbors = 3)\n",
        "pred = previsor(model)\n",
        "x = erros(y_test,pred,metricas_db,'KNN')"
      ]
    },
    {
      "cell_type": "code",
      "execution_count": 249,
      "metadata": {
        "colab": {
          "base_uri": "https://localhost:8080/"
        },
        "id": "LAzjoCJvjkn7",
        "outputId": "9629f58a-4d45-4b64-cc63-0cbd8e83d919"
      },
      "outputs": [
        {
          "name": "stdout",
          "output_type": "stream",
          "text": [
            "              precision    recall  f1-score   support\n",
            "\n",
            "           0       0.87      0.97      0.92      2373\n",
            "           1       0.78      0.46      0.58       627\n",
            "\n",
            "    accuracy                           0.86      3000\n",
            "   macro avg       0.82      0.71      0.75      3000\n",
            "weighted avg       0.85      0.86      0.85      3000\n",
            "\n"
          ]
        }
      ],
      "source": [
        "model = RandomForestClassifier()\n",
        "pred = previsor(model)\n",
        "x = erros(y_test,pred,metricas_db,'Random Forest')"
      ]
    },
    {
      "cell_type": "code",
      "execution_count": 250,
      "metadata": {
        "colab": {
          "base_uri": "https://localhost:8080/"
        },
        "id": "zvBiCrezkCkr",
        "outputId": "b059bdf4-93ab-4b5f-90d6-e6de50fdbd5c"
      },
      "outputs": [
        {
          "name": "stdout",
          "output_type": "stream",
          "text": [
            "              precision    recall  f1-score   support\n",
            "\n",
            "           0       0.88      0.86      0.87      2373\n",
            "           1       0.51      0.54      0.52       627\n",
            "\n",
            "    accuracy                           0.80      3000\n",
            "   macro avg       0.69      0.70      0.70      3000\n",
            "weighted avg       0.80      0.80      0.80      3000\n",
            "\n"
          ]
        }
      ],
      "source": [
        "model = DecisionTreeClassifier()\n",
        "pred = previsor(model)\n",
        "x = erros(y_test,pred,metricas_db,'Árvore de Decisão')"
      ]
    },
    {
      "cell_type": "code",
      "execution_count": 251,
      "metadata": {
        "colab": {
          "base_uri": "https://localhost:8080/"
        },
        "id": "0s8E4ZhtkJMm",
        "outputId": "62c15b70-898a-467e-b155-fb4d7ef74f03"
      },
      "outputs": [
        {
          "name": "stdout",
          "output_type": "stream",
          "text": [
            "              precision    recall  f1-score   support\n",
            "\n",
            "           0       0.88      0.95      0.91      2373\n",
            "           1       0.73      0.51      0.60       627\n",
            "\n",
            "    accuracy                           0.86      3000\n",
            "   macro avg       0.81      0.73      0.76      3000\n",
            "weighted avg       0.85      0.86      0.85      3000\n",
            "\n"
          ]
        }
      ],
      "source": [
        "from xgboost import XGBClassifier\n",
        "model = XGBClassifier(objective=\"binary:logistic\")\n",
        "pred = previsor(model)\n",
        "x = erros(y_test,pred,metricas_db,'Gradient Boosting')"
      ]
    },
    {
      "cell_type": "code",
      "execution_count": 252,
      "metadata": {},
      "outputs": [
        {
          "name": "stdout",
          "output_type": "stream",
          "text": [
            "              precision    recall  f1-score   support\n",
            "\n",
            "           0       0.82      0.97      0.89      2373\n",
            "           1       0.67      0.20      0.31       627\n",
            "\n",
            "    accuracy                           0.81      3000\n",
            "   macro avg       0.75      0.59      0.60      3000\n",
            "weighted avg       0.79      0.81      0.77      3000\n",
            "\n"
          ]
        }
      ],
      "source": [
        "from sklearn.linear_model import LogisticRegression\n",
        "model = LogisticRegression()\n",
        "pred = previsor(model)\n",
        "x = erros(y_test,pred,metricas_db,'Regressão Logística')"
      ]
    },
    {
      "attachments": {},
      "cell_type": "markdown",
      "metadata": {
        "id": "n1-M4dtJlAlq"
      },
      "source": [
        "# Modelos com bases balanceadas através de undersampling"
      ]
    },
    {
      "cell_type": "code",
      "execution_count": 253,
      "metadata": {
        "id": "hEiROq4ZlAl5"
      },
      "outputs": [],
      "source": [
        "from imblearn.under_sampling import RandomUnderSampler"
      ]
    },
    {
      "cell_type": "code",
      "execution_count": 254,
      "metadata": {
        "id": "TxtR-VtLlvwW"
      },
      "outputs": [],
      "source": [
        "sampler = RandomUnderSampler(random_state=26)\n",
        "X = df.drop(columns='Exited')\n",
        "y = df.Exited\n",
        "X,y = sampler.fit_resample(X, y)\n"
      ]
    },
    {
      "cell_type": "code",
      "execution_count": 270,
      "metadata": {
        "id": "uxX_r78ElAl5"
      },
      "outputs": [],
      "source": [
        "scaler = MinMaxScaler(feature_range=(0,1))\n",
        "X_train, X_test, y_train, y_test = train_test_split(X, y, test_size=0.3, random_state=1)\n",
        "X_train = scaler.fit_transform(X_train)\n",
        "X_test = scaler.transform(X_test)"
      ]
    },
    {
      "cell_type": "code",
      "execution_count": 271,
      "metadata": {
        "colab": {
          "base_uri": "https://localhost:8080/",
          "height": 270
        },
        "id": "-I_9WP8hlAl6",
        "outputId": "8501e87e-29e2-4837-d075-116933e5e49b"
      },
      "outputs": [
        {
          "data": {
            "text/html": [
              "<div>\n",
              "<style scoped>\n",
              "    .dataframe tbody tr th:only-of-type {\n",
              "        vertical-align: middle;\n",
              "    }\n",
              "\n",
              "    .dataframe tbody tr th {\n",
              "        vertical-align: top;\n",
              "    }\n",
              "\n",
              "    .dataframe thead th {\n",
              "        text-align: right;\n",
              "    }\n",
              "</style>\n",
              "<table border=\"1\" class=\"dataframe\">\n",
              "  <thead>\n",
              "    <tr style=\"text-align: right;\">\n",
              "      <th></th>\n",
              "      <th>CreditScore</th>\n",
              "      <th>Age</th>\n",
              "      <th>Tenure</th>\n",
              "      <th>Balance</th>\n",
              "      <th>NumOfProducts</th>\n",
              "      <th>HasCrCard</th>\n",
              "      <th>IsActiveMember</th>\n",
              "      <th>EstimatedSalary</th>\n",
              "      <th>Exited</th>\n",
              "      <th>Male</th>\n",
              "      <th>Germany</th>\n",
              "    </tr>\n",
              "  </thead>\n",
              "  <tbody>\n",
              "    <tr>\n",
              "      <th>0</th>\n",
              "      <td>0.800</td>\n",
              "      <td>0.054054</td>\n",
              "      <td>0.3</td>\n",
              "      <td>0.484985</td>\n",
              "      <td>0.000000</td>\n",
              "      <td>1.0</td>\n",
              "      <td>0.0</td>\n",
              "      <td>0.643495</td>\n",
              "      <td>1.0</td>\n",
              "      <td>0.0</td>\n",
              "      <td>1.0</td>\n",
              "    </tr>\n",
              "    <tr>\n",
              "      <th>1</th>\n",
              "      <td>0.796</td>\n",
              "      <td>0.283784</td>\n",
              "      <td>0.9</td>\n",
              "      <td>0.529560</td>\n",
              "      <td>0.000000</td>\n",
              "      <td>1.0</td>\n",
              "      <td>1.0</td>\n",
              "      <td>0.298065</td>\n",
              "      <td>0.0</td>\n",
              "      <td>0.0</td>\n",
              "      <td>0.0</td>\n",
              "    </tr>\n",
              "    <tr>\n",
              "      <th>2</th>\n",
              "      <td>0.208</td>\n",
              "      <td>0.405405</td>\n",
              "      <td>0.5</td>\n",
              "      <td>0.577277</td>\n",
              "      <td>0.000000</td>\n",
              "      <td>1.0</td>\n",
              "      <td>1.0</td>\n",
              "      <td>0.465833</td>\n",
              "      <td>0.0</td>\n",
              "      <td>0.0</td>\n",
              "      <td>1.0</td>\n",
              "    </tr>\n",
              "    <tr>\n",
              "      <th>3</th>\n",
              "      <td>0.304</td>\n",
              "      <td>0.324324</td>\n",
              "      <td>0.0</td>\n",
              "      <td>0.526121</td>\n",
              "      <td>0.000000</td>\n",
              "      <td>0.0</td>\n",
              "      <td>1.0</td>\n",
              "      <td>0.140727</td>\n",
              "      <td>0.0</td>\n",
              "      <td>1.0</td>\n",
              "      <td>0.0</td>\n",
              "    </tr>\n",
              "    <tr>\n",
              "      <th>4</th>\n",
              "      <td>0.360</td>\n",
              "      <td>0.148649</td>\n",
              "      <td>0.5</td>\n",
              "      <td>0.000000</td>\n",
              "      <td>0.333333</td>\n",
              "      <td>0.0</td>\n",
              "      <td>0.0</td>\n",
              "      <td>0.607493</td>\n",
              "      <td>0.0</td>\n",
              "      <td>0.0</td>\n",
              "      <td>0.0</td>\n",
              "    </tr>\n",
              "  </tbody>\n",
              "</table>\n",
              "</div>"
            ],
            "text/plain": [
              "   CreditScore       Age  Tenure   Balance  NumOfProducts  HasCrCard   \n",
              "0        0.800  0.054054     0.3  0.484985       0.000000        1.0  \\\n",
              "1        0.796  0.283784     0.9  0.529560       0.000000        1.0   \n",
              "2        0.208  0.405405     0.5  0.577277       0.000000        1.0   \n",
              "3        0.304  0.324324     0.0  0.526121       0.000000        0.0   \n",
              "4        0.360  0.148649     0.5  0.000000       0.333333        0.0   \n",
              "\n",
              "   IsActiveMember  EstimatedSalary  Exited  Male  Germany  \n",
              "0             0.0         0.643495     1.0   0.0      1.0  \n",
              "1             1.0         0.298065     0.0   0.0      0.0  \n",
              "2             1.0         0.465833     0.0   0.0      1.0  \n",
              "3             1.0         0.140727     0.0   1.0      0.0  \n",
              "4             0.0         0.607493     0.0   0.0      0.0  "
            ]
          },
          "execution_count": 271,
          "metadata": {},
          "output_type": "execute_result"
        }
      ],
      "source": [
        "pd.DataFrame(data = X_train, columns = df.columns[:-1]).head()"
      ]
    },
    {
      "cell_type": "code",
      "execution_count": 272,
      "metadata": {
        "colab": {
          "base_uri": "https://localhost:8080/"
        },
        "id": "WMnUULxClAl7",
        "outputId": "92768724-18da-41bc-842b-a0c65bd6f6cb"
      },
      "outputs": [
        {
          "name": "stdout",
          "output_type": "stream",
          "text": [
            "              precision    recall  f1-score   support\n",
            "\n",
            "           0       0.68      0.69      0.68       622\n",
            "           1       0.67      0.66      0.67       601\n",
            "\n",
            "    accuracy                           0.68      1223\n",
            "   macro avg       0.68      0.68      0.68      1223\n",
            "weighted avg       0.68      0.68      0.68      1223\n",
            "\n"
          ]
        }
      ],
      "source": [
        "model = KNeighborsClassifier(n_neighbors = 3)\n",
        "pred = previsor(model)\n",
        "x = erros(y_test,pred,metricas_b,'KNN')"
      ]
    },
    {
      "cell_type": "code",
      "execution_count": 273,
      "metadata": {
        "colab": {
          "base_uri": "https://localhost:8080/"
        },
        "id": "l_nD3Zm0lAl7",
        "outputId": "f2a084e6-ca42-44cd-e3dd-8bc2d213065d"
      },
      "outputs": [
        {
          "name": "stdout",
          "output_type": "stream",
          "text": [
            "              precision    recall  f1-score   support\n",
            "\n",
            "           0       0.74      0.78      0.76       622\n",
            "           1       0.76      0.72      0.74       601\n",
            "\n",
            "    accuracy                           0.75      1223\n",
            "   macro avg       0.75      0.75      0.75      1223\n",
            "weighted avg       0.75      0.75      0.75      1223\n",
            "\n"
          ]
        }
      ],
      "source": [
        "model = RandomForestClassifier()\n",
        "pred = previsor(model)\n",
        "x = erros(y_test,pred,metricas_b,'Random Forest')"
      ]
    },
    {
      "cell_type": "code",
      "execution_count": 274,
      "metadata": {
        "colab": {
          "base_uri": "https://localhost:8080/"
        },
        "id": "IwLW6bPmlAl7",
        "outputId": "e8951fe7-e0e9-4a14-9d7b-89b70e074a91"
      },
      "outputs": [
        {
          "name": "stdout",
          "output_type": "stream",
          "text": [
            "              precision    recall  f1-score   support\n",
            "\n",
            "           0       0.69      0.68      0.69       622\n",
            "           1       0.67      0.68      0.68       601\n",
            "\n",
            "    accuracy                           0.68      1223\n",
            "   macro avg       0.68      0.68      0.68      1223\n",
            "weighted avg       0.68      0.68      0.68      1223\n",
            "\n"
          ]
        }
      ],
      "source": [
        "model = DecisionTreeClassifier()\n",
        "pred = previsor(model)\n",
        "x = erros(y_test,pred,metricas_b,'Árvore de Decisão')"
      ]
    },
    {
      "cell_type": "code",
      "execution_count": 275,
      "metadata": {
        "colab": {
          "base_uri": "https://localhost:8080/"
        },
        "id": "n9g0RF8QlAl8",
        "outputId": "a9c2e08c-652f-4448-e1d7-8d970bb3abbe"
      },
      "outputs": [
        {
          "name": "stdout",
          "output_type": "stream",
          "text": [
            "              precision    recall  f1-score   support\n",
            "\n",
            "           0       0.76      0.77      0.77       622\n",
            "           1       0.76      0.75      0.75       601\n",
            "\n",
            "    accuracy                           0.76      1223\n",
            "   macro avg       0.76      0.76      0.76      1223\n",
            "weighted avg       0.76      0.76      0.76      1223\n",
            "\n"
          ]
        }
      ],
      "source": [
        "from xgboost import XGBClassifier\n",
        "model = XGBClassifier(objective=\"binary:logistic\")\n",
        "pred = previsor(model)\n",
        "x = erros(y_test,pred,metricas_b,'Gradient Boosting')"
      ]
    },
    {
      "cell_type": "code",
      "execution_count": 276,
      "metadata": {},
      "outputs": [
        {
          "name": "stdout",
          "output_type": "stream",
          "text": [
            "              precision    recall  f1-score   support\n",
            "\n",
            "           0       0.70      0.71      0.71       622\n",
            "           1       0.70      0.69      0.69       601\n",
            "\n",
            "    accuracy                           0.70      1223\n",
            "   macro avg       0.70      0.70      0.70      1223\n",
            "weighted avg       0.70      0.70      0.70      1223\n",
            "\n"
          ]
        }
      ],
      "source": [
        "model = LogisticRegression()\n",
        "pred = previsor(model)\n",
        "x = erros(y_test,pred,metricas_b,'Regressão Logística')"
      ]
    },
    {
      "attachments": {},
      "cell_type": "markdown",
      "metadata": {},
      "source": [
        "# Apresentação de Resultados"
      ]
    },
    {
      "attachments": {},
      "cell_type": "markdown",
      "metadata": {},
      "source": [
        "Se precisar, consulte: https://medium.com/kunumi/métricas-de-avaliação-em-machine-learning-classificação-49340dcdb198"
      ]
    },
    {
      "cell_type": "code",
      "execution_count": 277,
      "metadata": {},
      "outputs": [
        {
          "data": {
            "text/html": [
              "<style type=\"text/css\">\n",
              "#T_221c7_row1_col0, #T_221c7_row1_col3, #T_221c7_row2_col1, #T_221c7_row3_col2 {\n",
              "  font-weight: bold;\n",
              "}\n",
              "</style>\n",
              "<table id=\"T_221c7\">\n",
              "  <thead>\n",
              "    <tr>\n",
              "      <th class=\"blank level0\" >&nbsp;</th>\n",
              "      <th id=\"T_221c7_level0_col0\" class=\"col_heading level0 col0\" >Precisão</th>\n",
              "      <th id=\"T_221c7_level0_col1\" class=\"col_heading level0 col1\" >Recall</th>\n",
              "      <th id=\"T_221c7_level0_col2\" class=\"col_heading level0 col2\" >F1 Score</th>\n",
              "      <th id=\"T_221c7_level0_col3\" class=\"col_heading level0 col3\" >Acurácia</th>\n",
              "    </tr>\n",
              "  </thead>\n",
              "  <tbody>\n",
              "    <tr>\n",
              "      <th id=\"T_221c7_level0_row0\" class=\"row_heading level0 row0\" >KNN</th>\n",
              "      <td id=\"T_221c7_row0_col0\" class=\"data row0 col0\" >0.521851</td>\n",
              "      <td id=\"T_221c7_row0_col1\" class=\"data row0 col1\" >0.323764</td>\n",
              "      <td id=\"T_221c7_row0_col2\" class=\"data row0 col2\" >0.399606</td>\n",
              "      <td id=\"T_221c7_row0_col3\" class=\"data row0 col3\" >0.796667</td>\n",
              "    </tr>\n",
              "    <tr>\n",
              "      <th id=\"T_221c7_level0_row1\" class=\"row_heading level0 row1\" >Random Forest</th>\n",
              "      <td id=\"T_221c7_row1_col0\" class=\"data row1 col0\" >0.778378</td>\n",
              "      <td id=\"T_221c7_row1_col1\" class=\"data row1 col1\" >0.459330</td>\n",
              "      <td id=\"T_221c7_row1_col2\" class=\"data row1 col2\" >0.577733</td>\n",
              "      <td id=\"T_221c7_row1_col3\" class=\"data row1 col3\" >0.859667</td>\n",
              "    </tr>\n",
              "    <tr>\n",
              "      <th id=\"T_221c7_level0_row2\" class=\"row_heading level0 row2\" >Árvore de Decisão</th>\n",
              "      <td id=\"T_221c7_row2_col0\" class=\"data row2 col0\" >0.510606</td>\n",
              "      <td id=\"T_221c7_row2_col1\" class=\"data row2 col1\" >0.537480</td>\n",
              "      <td id=\"T_221c7_row2_col2\" class=\"data row2 col2\" >0.523699</td>\n",
              "      <td id=\"T_221c7_row2_col3\" class=\"data row2 col3\" >0.795667</td>\n",
              "    </tr>\n",
              "    <tr>\n",
              "      <th id=\"T_221c7_level0_row3\" class=\"row_heading level0 row3\" >Gradient Boosting</th>\n",
              "      <td id=\"T_221c7_row3_col0\" class=\"data row3 col0\" >0.732719</td>\n",
              "      <td id=\"T_221c7_row3_col1\" class=\"data row3 col1\" >0.507177</td>\n",
              "      <td id=\"T_221c7_row3_col2\" class=\"data row3 col2\" >0.599434</td>\n",
              "      <td id=\"T_221c7_row3_col3\" class=\"data row3 col3\" >0.858333</td>\n",
              "    </tr>\n",
              "    <tr>\n",
              "      <th id=\"T_221c7_level0_row4\" class=\"row_heading level0 row4\" >Regressão Logística</th>\n",
              "      <td id=\"T_221c7_row4_col0\" class=\"data row4 col0\" >0.668421</td>\n",
              "      <td id=\"T_221c7_row4_col1\" class=\"data row4 col1\" >0.202552</td>\n",
              "      <td id=\"T_221c7_row4_col2\" class=\"data row4 col2\" >0.310894</td>\n",
              "      <td id=\"T_221c7_row4_col3\" class=\"data row4 col3\" >0.812333</td>\n",
              "    </tr>\n",
              "  </tbody>\n",
              "</table>\n"
            ],
            "text/plain": [
              "<pandas.io.formats.style.Styler at 0x159a8d42ad0>"
            ]
          },
          "execution_count": 277,
          "metadata": {},
          "output_type": "execute_result"
        }
      ],
      "source": [
        "def highlight_max(s):\n",
        "    is_max = s == s.max()\n",
        "    return [\"font-weight: bold\" if cell else '' for cell in is_max]\n",
        "\n",
        "#desbalanceado\n",
        "metricas_db.style.apply(highlight_max)"
      ]
    },
    {
      "cell_type": "code",
      "execution_count": 278,
      "metadata": {},
      "outputs": [
        {
          "data": {
            "text/html": [
              "<style type=\"text/css\">\n",
              "#T_26c60_row1_col0, #T_26c60_row3_col1, #T_26c60_row3_col2, #T_26c60_row3_col3 {\n",
              "  font-weight: bold;\n",
              "}\n",
              "</style>\n",
              "<table id=\"T_26c60\">\n",
              "  <thead>\n",
              "    <tr>\n",
              "      <th class=\"blank level0\" >&nbsp;</th>\n",
              "      <th id=\"T_26c60_level0_col0\" class=\"col_heading level0 col0\" >Precisão</th>\n",
              "      <th id=\"T_26c60_level0_col1\" class=\"col_heading level0 col1\" >Recall</th>\n",
              "      <th id=\"T_26c60_level0_col2\" class=\"col_heading level0 col2\" >F1 Score</th>\n",
              "      <th id=\"T_26c60_level0_col3\" class=\"col_heading level0 col3\" >Acurácia</th>\n",
              "    </tr>\n",
              "  </thead>\n",
              "  <tbody>\n",
              "    <tr>\n",
              "      <th id=\"T_26c60_level0_row0\" class=\"row_heading level0 row0\" >KNN</th>\n",
              "      <td id=\"T_26c60_row0_col0\" class=\"data row0 col0\" >0.673469</td>\n",
              "      <td id=\"T_26c60_row0_col1\" class=\"data row0 col1\" >0.658902</td>\n",
              "      <td id=\"T_26c60_row0_col2\" class=\"data row0 col2\" >0.666106</td>\n",
              "      <td id=\"T_26c60_row0_col3\" class=\"data row0 col3\" >0.675388</td>\n",
              "    </tr>\n",
              "    <tr>\n",
              "      <th id=\"T_26c60_level0_row1\" class=\"row_heading level0 row1\" >Random Forest</th>\n",
              "      <td id=\"T_26c60_row1_col0\" class=\"data row1 col0\" >0.762742</td>\n",
              "      <td id=\"T_26c60_row1_col1\" class=\"data row1 col1\" >0.722130</td>\n",
              "      <td id=\"T_26c60_row1_col2\" class=\"data row1 col2\" >0.741880</td>\n",
              "      <td id=\"T_26c60_row1_col3\" class=\"data row1 col3\" >0.753066</td>\n",
              "    </tr>\n",
              "    <tr>\n",
              "      <th id=\"T_26c60_level0_row2\" class=\"row_heading level0 row2\" >Árvore de Decisão</th>\n",
              "      <td id=\"T_26c60_row2_col0\" class=\"data row2 col0\" >0.674380</td>\n",
              "      <td id=\"T_26c60_row2_col1\" class=\"data row2 col1\" >0.678869</td>\n",
              "      <td id=\"T_26c60_row2_col2\" class=\"data row2 col2\" >0.676617</td>\n",
              "      <td id=\"T_26c60_row2_col3\" class=\"data row2 col3\" >0.681112</td>\n",
              "    </tr>\n",
              "    <tr>\n",
              "      <th id=\"T_26c60_level0_row3\" class=\"row_heading level0 row3\" >Gradient Boosting</th>\n",
              "      <td id=\"T_26c60_row3_col0\" class=\"data row3 col0\" >0.762309</td>\n",
              "      <td id=\"T_26c60_row3_col1\" class=\"data row3 col1\" >0.747088</td>\n",
              "      <td id=\"T_26c60_row3_col2\" class=\"data row3 col2\" >0.754622</td>\n",
              "      <td id=\"T_26c60_row3_col3\" class=\"data row3 col3\" >0.761243</td>\n",
              "    </tr>\n",
              "    <tr>\n",
              "      <th id=\"T_26c60_level0_row4\" class=\"row_heading level0 row4\" >Regressão Logística</th>\n",
              "      <td id=\"T_26c60_row4_col0\" class=\"data row4 col0\" >0.695286</td>\n",
              "      <td id=\"T_26c60_row4_col1\" class=\"data row4 col1\" >0.687188</td>\n",
              "      <td id=\"T_26c60_row4_col2\" class=\"data row4 col2\" >0.691213</td>\n",
              "      <td id=\"T_26c60_row4_col3\" class=\"data row4 col3\" >0.698283</td>\n",
              "    </tr>\n",
              "  </tbody>\n",
              "</table>\n"
            ],
            "text/plain": [
              "<pandas.io.formats.style.Styler at 0x159b08b7640>"
            ]
          },
          "execution_count": 278,
          "metadata": {},
          "output_type": "execute_result"
        }
      ],
      "source": [
        "#balanceado\n",
        "metricas_b.style.apply(highlight_max)"
      ]
    },
    {
      "cell_type": "code",
      "execution_count": null,
      "metadata": {},
      "outputs": [],
      "source": []
    }
  ],
  "metadata": {
    "colab": {
      "provenance": []
    },
    "kernelspec": {
      "display_name": "Python 3",
      "language": "python",
      "name": "python3"
    },
    "language_info": {
      "codemirror_mode": {
        "name": "ipython",
        "version": 3
      },
      "file_extension": ".py",
      "mimetype": "text/x-python",
      "name": "python",
      "nbconvert_exporter": "python",
      "pygments_lexer": "ipython3",
      "version": "3.10.11"
    },
    "orig_nbformat": 4
  },
  "nbformat": 4,
  "nbformat_minor": 0
}
