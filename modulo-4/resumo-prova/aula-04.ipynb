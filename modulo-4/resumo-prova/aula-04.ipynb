{
 "cells": [
  {
   "attachments": {},
   "cell_type": "markdown",
   "metadata": {},
   "source": [
    "### Métodos de Amostragem\n",
    "\n",
    "- **Amostra probabilística**: todos os elementos da população apresentam probabilidade maior que zero de serem selecionados\n",
    "\n",
    "- **Amostra não probabilística**: quando não há probabilidade clara/conhecida de seleção dos elementos. Os elementos são escolhidos de forma julgamental."
   ]
  },
  {
   "attachments": {},
   "cell_type": "markdown",
   "metadata": {},
   "source": [
    "### Amostra Aleatória Simples\n",
    "\n",
    "Este é o método mais simples e mais importante de seleção de uma amostra, pois pode ser usada em combinação com outros métodos. A premissa assumida é que a população é homogênea com relação à característica de interesse.\n",
    "\n",
    "A amostra aleatória simples pode ser realizada com ou sem reposição. No caso em que há reposição, cada elemento pode ser sorteado mais de uma vez. Para exemplificar, suponha que se queira sortear um número aleatório de uma urna, se for uma AAS com reposição,  este número voltará para urna para participar do próximo sorteio. Se não houver reposição, cada elemento só poderá ser selecionado uma vez para compor a amostra.\n",
    " \n",
    " \n",
    "Considere uma população formada por N elementos (conhecido e finito). Este método consiste em selecionar n elementos, sendo que cada elemento tem a mesma probabilidade de ser selecionado."
   ]
  },
  {
   "attachments": {},
   "cell_type": "markdown",
   "metadata": {},
   "source": [
    "### Amostra Sistemática\n",
    "\n",
    "Usada quando os elementos população estão ordenados (população de lista telefônica, casas em uma rua). \n",
    "\n",
    "Considere uma população de tamanho $N$ e que se queira uma amostra de tamanho \\\\(n\\\\). O processo de amostragem deste método consiste em:\n",
    "\n",
    "- Dividir o tamanho populacional em K partes:\n",
    "\\\\[ k = \\frac{N}{n} \\\\]\n",
    "\n",
    "- Definir a posição de início da amostragem (que também será o primeiro elemento da amostra). Para tal fim, é sorteado i com o uso da amostra aleatória simples no intervalo, em que  \\\\[i \\in [1, k]\\\\]\n",
    "\n",
    "\n",
    "- A partir do elemento selecionado aleatoriamente, é realizada sucessão aritimética para selecionar os $n-1$ indivíduos restantes\n",
    "\\\\[i, i + k, i + 2k, i + 3k, ...., i + (n-1)k\\\\]\n"
   ]
  },
  {
   "attachments": {},
   "cell_type": "markdown",
   "metadata": {},
   "source": [
    "### Amostra Estratificada \n",
    "\n",
    "Trata-se do método em que a população é dividida em grupos (estratos) segundo alguma(s) característica(s) conhecida(s) na população sob estudo. São exemplos de estrato o gênero, faixa etária, região geográfica, profiissão. No geral, é usada quando a população é heterogênea sob a ótica das características analisadas. Procedimento de amostragem:\n",
    "\n",
    "- Dividir as N unidades da população em \\\\(N_1, N_2, \\cdots , N_j\\\\) estratos distintos e homogêneos\n",
    "\n",
    "\n",
    "- Selecionar, ao acaso, uma amostra de tamanhos \\\\(n_1, n_2, \\cdots , n_j\\\\) , de modo que o tamanho da amostra seja \\\\(n = n_1+n_2+ \\cdots +n_j\\\\). O tamanho amostral pode ser proporcional à representatividade do estrato\n",
    "\n",
    "\n",
    "**Exemplo**: Considere a população formada por integrantes de uma escola. Dependendo do objetivo do estudo, esta população poderia ser dividida em alunos, professores, e demais funcionários (grupos homogêneos com relação à função na escola). \n",
    "\n",
    "Agora considere que a proporção de cada estrato seja: 50% alunos, 25% professores e 25% servidores. A amostragem poderia ser realizada dentro de cada estrato de forma que o tamanho amostral preserve esta característica. Sendo assim, se amostra total é de tamanho $n$, a composição será $0,5 \\times n$ de alunos, $0,25\\times n$ de professores e $0,25\\times n$ de servidores."
   ]
  },
  {
   "attachments": {},
   "cell_type": "markdown",
   "metadata": {},
   "source": [
    "# Tamanho Amostral\n",
    "\n",
    "Ao se realizar uma amostra para inferir uma determinada função paramétrica (média, máximo ou outra função de um parâmetro), há um erro associado ao planejamento amostral.\n",
    "A medida que o tamanho da amostra aumenta, o erro do estimador diminui. \n",
    "Vale ressaltar que uma amostra muito grande pode implicar em custos desnecessários, enquanto que uma amostra pequena pode tornar a pesquisa inconclusiva. Deste modo, o ponto chave de um levantamento amostral é determinar o tamanho da amostra. "
   ]
  },
  {
   "attachments": {},
   "cell_type": "markdown",
   "metadata": {},
   "source": [
    "### Teorema Central do Limite (TCL)\n",
    "\n",
    "Esse é um dos teoremas mais poderosos e fundamentais da estatística, porque ele é usado **como base para muitos outros resultados**. \n",
    "\n",
    "A ideia é que muitos dos resultados de inferência estatística são válidos assumindo como hipótese que os dados sob análise seguem uma distribuição normal. \n",
    "\n",
    "No entanto, há muitos casos de interesse em que a **distribuição populacional não é normal** -- e, na verdade, não temos como saber com segurança qual é a distribuição populacional, dado que temos apenas acesso às amostras!\n",
    "\n",
    "Assim, a priori, muitos dos resultados e métodos da inferência estatística seriam invalidados, dado que não podemos assegurar qual é a distribuição populacional dos dados que estamos analisando.\n",
    "\n",
    "E é neste contexto que o TCL mostra seu poder e importância, pois ele mostra que **estimadores pontuais de parâmetros populacionais serão normalmente distribuídos, INDEPENDENTE DA DISTRIBUIÇÃO POPULACIONAL!**"
   ]
  },
  {
   "attachments": {},
   "cell_type": "markdown",
   "metadata": {},
   "source": [
    "## Níveis de confiança e significância\n",
    "\n",
    "\n",
    "### Definições\n",
    "O **nível de confiança** ($1 - \\alpha$) representa a probabilidade de acerto da estimativa. De forma complementar o **nível de significância** ($\\alpha$) expressa a probabilidade de erro da estimativa.\n",
    "\n",
    "O **nível de confiança** representa o grau de confiabilidade do resultado da estimativa estar dentro de determinado intervalo. Quando fixamos em uma pesquisa um **nível de confiança** de 95%, por exemplo, estamos assumindo que existe uma probabilidade de 95% dos resultados da pesquisa representarem bem a realidade, ou seja, estarem corretos.\n",
    "\n"
   ]
  },
  {
   "attachments": {},
   "cell_type": "markdown",
   "metadata": {},
   "source": [
    "### 4.3.2.2  Erro inferencial\n",
    "***\n",
    "\n",
    "O **erro inferencial** é definido pelo **desvio padrão das médias amostrais** sigmax **nível de confiança** determinado para o processo.\n",
    "\n",
    "### $$e = z_{\\alpha/2} \\frac{\\sigma}{\\sqrt{n}}$$\n",
    "\n",
    "\n",
    "#### Tamanho da amostra: \n",
    "### $$n = \\left(z_{\\alpha/2} \\frac{\\sigma}{e}\\right)^2$$ \n",
    "\n",
    "\n",
    "##  Intervalos de confiança\n",
    "***\n",
    "\n",
    "### Intervalo de confiança para a média da população\n",
    "\n",
    "#### Com desvio padrão populacional conhecido\n",
    "\n",
    "## $$\\mu = \\bar{x} \\pm z_{\\alpha/2} \\frac{\\sigma}{\\sqrt{n}}$$\n",
    "\n",
    "#### Com desvio padrão populacional desconhecido\n",
    "\n",
    "No caso em que o desvio padrão populacional é desconhecida, pode-se realizar uma amostragem aleatória preliminar (ao menos 30 elementos) para estimar o desvio padrão amostral e usa-la na equaçao acima.\n",
    "\n",
    "## $$\\mu = \\bar{x} \\pm z_{\\alpha/2} \\frac{s}{\\sqrt{n}}$$"
   ]
  }
 ],
 "metadata": {
  "language_info": {
   "name": "python"
  },
  "orig_nbformat": 4
 },
 "nbformat": 4,
 "nbformat_minor": 2
}
