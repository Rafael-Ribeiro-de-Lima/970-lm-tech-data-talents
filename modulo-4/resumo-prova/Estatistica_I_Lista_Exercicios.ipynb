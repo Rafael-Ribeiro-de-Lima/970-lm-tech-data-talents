{
  "cells": [
    {
      "cell_type": "markdown",
      "id": "ab3dfefb",
      "metadata": {
        "id": "ab3dfefb"
      },
      "source": [
        "# Exercícios"
      ]
    },
    {
      "cell_type": "markdown",
      "id": "f9102e3c",
      "metadata": {
        "id": "f9102e3c"
      },
      "source": [
        "## Questão 1 \n",
        "\n",
        "Na casa da Luiza tem um pote de balas de diferentes cores. Certo dia, a pessoa responsável por ela contou quantas balas tinha de cada uma das cores:\n",
        "\n",
        "    - 14 balas azuis;\n",
        "    - 22 balas vermelhas;\n",
        "    - 17 balas amarelas.\n",
        "\n",
        "Essa pessoa deixou que Luiza pegasse 3 balas. Qual a probabilidade da Luiza pegar uma bala de cada na ordem da contagem (azul, vermelha e amarela), dado que é um evento sem reposição?"
      ]
    },
    {
      "cell_type": "markdown",
      "id": "9b42655a",
      "metadata": {
        "id": "9b42655a"
      },
      "source": [
        "## Questão 2\n",
        "A probabilidade de dado honesto é conhecido e igual a $1/6$, mas quando vamos testar isso com um dado físico, não necessariamente vai cair uma vez cada face do dado (se eu lançar ele 6 vezes). A ideia é que conforme fazermos vários testes a tendência é que a probabilidade de cada face irá convergir pro valor esperado. \n",
        "\n",
        "Vamos testar este conceito, utilizando o python, com os itens abaixo:\n",
        "\n",
        "__A)__ Desenvolva uma função que receba um valor n, onde n é a quantidade de elementos e o objetivo da função é retorna uma _Series_ com k elementos sendo esses elementos números variando de 1 e 6;\n",
        "\n",
        "__B)__ Teste a função para n igual a 10, 100, 1.000, 10.000 e 100.000 casos e para cada um deles calcule a proporção de vezes que aparece cada número;\n",
        "\n",
        "__Dica.:__ utilize a função do _Pandas_ `.value_counts`\n",
        "\n",
        "__C)__ O que podermos dizer sobre a afirmação do enunciado, a tendência é que as probabilidades irão convergir para $1/6$?"
      ]
    },
    {
      "cell_type": "markdown",
      "id": "723953d4-0369-44e2-89de-85cbb6011e64",
      "metadata": {
        "id": "723953d4-0369-44e2-89de-85cbb6011e64"
      },
      "source": [
        "## Questão 3\n",
        "Seja X uma v.a. que representa o valor observado num dado não viesado.\n",
        "\n",
        "    1. Descreva quem é a distribuição de probabilidade de X\n",
        "    2. Calcule E(X)\n",
        "    3. Calcule Var(X)"
      ]
    },
    {
      "cell_type": "markdown",
      "id": "82372fbf-b5eb-434f-8aed-b85bbd3641b0",
      "metadata": {
        "id": "82372fbf-b5eb-434f-8aed-b85bbd3641b0"
      },
      "source": [
        "## Questão 4\n",
        "Seja X uma v.a. que representa a compra de um ativo (X = 1) ou a não compra de um ativo (X = 0) em que o sucesso da compra tem 90% de probabilidade.\n",
        "\n",
        "    1. Descreva quem é a distribuição de probabilidade de X\n",
        "    2. Calcule E(X)\n",
        "    3. Calcule Var(X)"
      ]
    },
    {
      "cell_type": "markdown",
      "id": "4a12dfd0-7697-45fa-9117-06986f5334a0",
      "metadata": {
        "id": "4a12dfd0-7697-45fa-9117-06986f5334a0"
      },
      "source": [
        "## Questão 5\n",
        "Uma relação bem importante entre uma população e uma amostra, é que uma amostra pode ser significativa daquela população (ou seja, podemos inferir que a média e variância da amostra será bem próximo do valor real da população), isto quando essa amostra for grande o suficiente para isso. Vamos fazer algumas simulações utilizando o _Python_ para testar esses conceitos, resolvendo os itens a seguir:\n",
        "\n",
        "__A)__ Crie uma lista com número aleatórios entre 20 e 50 e que essa lista contenham 1 milhão de elementos;\n",
        "\n",
        "__B)__ Calcule a média e a variância para essa lista;\n",
        "\n",
        "__C)__ Faça amostra aleatórias de diversos tamanhos (10, 100, 1.000 e 10.000 elementos) e calcule as mesmas métricas que o item anterior, para avaliar o conceito proposto no enunciado\n",
        "\n",
        "**Dica**: utiliza o método _sample_ do pacote _random_ para fazer a seleção da amostra"
      ]
    },
    {
      "cell_type": "markdown",
      "id": "f36953b8",
      "metadata": {
        "id": "f36953b8"
      },
      "source": [
        "## Questão 6\n",
        "Um teste para COVID-19 possui uma taxa de 5% de falso positivo e 1% de falso negativo, ou seja, em 5% dos não-infectados acusa como infectados, e em 1% dos infectados acusa como não infectados. Sabendo que atualmente 1% da população está infectada, calcule a probabilidade de um paciente cujo teste apontou positivo estar realmente infectado."
      ]
    },
    {
      "cell_type": "markdown",
      "id": "LxOQ9MBVKc_Q",
      "metadata": {
        "id": "LxOQ9MBVKc_Q"
      },
      "source": [
        "## Questão 7\n",
        "Se uma amostra aleatória n=250, tem uma média amostral de 51,3 e uma desvio padrão populacional de σ=2. Construa o intervalo com 95% de confiança para a média populacional μ."
      ]
    },
    {
      "cell_type": "markdown",
      "id": "Mfa5J5nlKnKW",
      "metadata": {
        "id": "Mfa5J5nlKnKW"
      },
      "source": [
        "## Questão 8\n",
        "Sabe-se que a vida em horas de um bulbo de lâmpada de 75 W é distribuída de forma aproximadamente normal com desvio padrão de σ = 25. Uma amostra aleatória de 200 bulbos tem uma vida media de 1.014 horas. Construa um intervalo de confiança de 95% para a vida média."
      ]
    },
    {
      "cell_type": "markdown",
      "id": "uVHWBW-Qh0l2",
      "metadata": {
        "id": "uVHWBW-Qh0l2"
      },
      "source": [
        "## Questão 9\n",
        "\n",
        "Para decidirmos se os habitantes de uma ilha são descendentes da civilização A ou B, iremos proceder do seguinte modo:\n",
        "\n",
        "(i) selecionamos uma amostra de 100 moradores adultos da ilha, e determinamos a altura média deles;\n",
        "\n",
        "(ii) se essa altura média for superior a 176, diremos que são descendentes de B; caso contrário, são descendentes de A.\n",
        "\n",
        "Os parâmetros das alturas das duas civilizações são:\n",
        "A : μ = 175 e σ = 10;\n",
        "B : μ = 177 e σ = 10.\n",
        "\n",
        "Definamos:\n",
        "\n",
        "$H_0: \\overline{X} > 176$\n",
        "\n",
        "$H_1: \\overline{X} \\leq 176$\n",
        "\n",
        "(a) Defina os erros do tipo I e do tipo II e suas probabilidadades de ocorrerem.\n",
        "\n",
        "(b) Qual deve ser a regra de decisão se quisermos fixar a probabilidade do erro de tipo I em $5\\%$? Qual a probabilidade do erro de tipo II, nesse caso?"
      ]
    }
  ],
  "metadata": {
    "colab": {
      "provenance": []
    },
    "kernelspec": {
      "display_name": "Python 3 (ipykernel)",
      "language": "python",
      "name": "python3"
    },
    "language_info": {
      "codemirror_mode": {
        "name": "ipython",
        "version": 3
      },
      "file_extension": ".py",
      "mimetype": "text/x-python",
      "name": "python",
      "nbconvert_exporter": "python",
      "pygments_lexer": "ipython3",
      "version": "3.9.7"
    },
    "varInspector": {
      "cols": {
        "lenName": 16,
        "lenType": 16,
        "lenVar": 40
      },
      "kernels_config": {
        "python": {
          "delete_cmd_postfix": "",
          "delete_cmd_prefix": "del ",
          "library": "var_list.py",
          "varRefreshCmd": "print(var_dic_list())"
        },
        "r": {
          "delete_cmd_postfix": ") ",
          "delete_cmd_prefix": "rm(",
          "library": "var_list.r",
          "varRefreshCmd": "cat(var_dic_list()) "
        }
      },
      "types_to_exclude": [
        "module",
        "function",
        "builtin_function_or_method",
        "instance",
        "_Feature"
      ],
      "window_display": false
    }
  },
  "nbformat": 4,
  "nbformat_minor": 5
}