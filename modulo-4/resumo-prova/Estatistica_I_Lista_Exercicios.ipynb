{
  "cells": [
    {
      "cell_type": "markdown",
      "id": "ab3dfefb",
      "metadata": {
        "id": "ab3dfefb"
      },
      "source": [
        "# Exercícios"
      ]
    },
    {
      "cell_type": "markdown",
      "id": "f9102e3c",
      "metadata": {
        "id": "f9102e3c"
      },
      "source": [
        "## Questão 1 \n",
        "\n",
        "Na casa da Luiza tem um pote de balas de diferentes cores. Certo dia, a pessoa responsável por ela contou quantas balas tinha de cada uma das cores:\n",
        "\n",
        "    - 14 balas azuis;\n",
        "    - 22 balas vermelhas;\n",
        "    - 17 balas amarelas.\n",
        "\n",
        "Essa pessoa deixou que Luiza pegasse 3 balas. Qual a probabilidade da Luiza pegar uma bala de cada na ordem da contagem (azul, vermelha e amarela), dado que é um evento sem reposição?"
      ]
    },
    {
      "cell_type": "code",
      "execution_count": 2,
      "id": "22ad0513",
      "metadata": {},
      "outputs": [
        {
          "name": "stdout",
          "output_type": "stream",
          "text": [
            "A probabilidade é de 3.73%\n"
          ]
        }
      ],
      "source": [
        "# Resposta:\n",
        "\n",
        "balas_azuis = 14\n",
        "balas_vermelhas = 22\n",
        "balas_amarelas = 17\n",
        "\n",
        "total_balas = balas_azuis + balas_vermelhas + balas_amarelas\n",
        "\n",
        "prob = (balas_azuis / total_balas) * (balas_vermelhas / (total_balas - 1)) * (balas_amarelas / (total_balas - 2))\n",
        "\n",
        "print(f'A probabilidade é de {prob*100:.2f}%')"
      ]
    },
    {
      "cell_type": "markdown",
      "id": "9b42655a",
      "metadata": {
        "id": "9b42655a"
      },
      "source": [
        "## Questão 2\n",
        "A probabilidade de dado honesto é conhecido e igual a $1/6$, mas quando vamos testar isso com um dado físico, não necessariamente vai cair uma vez cada face do dado (se eu lançar ele 6 vezes). A ideia é que conforme fazermos vários testes a tendência é que a probabilidade de cada face irá convergir pro valor esperado. \n",
        "\n",
        "Vamos testar este conceito, utilizando o python, com os itens abaixo:\n",
        "\n",
        "__A)__ Desenvolva uma função que receba um valor n, onde n é a quantidade de elementos e o objetivo da função é retorna uma _Series_ com k elementos sendo esses elementos números variando de 1 e 6;\n",
        "\n",
        "__B)__ Teste a função para n igual a 10, 100, 1.000, 10.000 e 100.000 casos e para cada um deles calcule a proporção de vezes que aparece cada número;\n",
        "\n",
        "__Dica.:__ utilize a função do _Pandas_ `.value_counts`\n",
        "\n",
        "__C)__ O que podermos dizer sobre a afirmação do enunciado, a tendência é que as probabilidades irão convergir para $1/6$?"
      ]
    },
    {
      "cell_type": "code",
      "execution_count": 3,
      "id": "f1b5ee71",
      "metadata": {},
      "outputs": [
        {
          "name": "stdout",
          "output_type": "stream",
          "text": [
            "Valor\n",
            "6        0.3\n",
            "1        0.2\n",
            "4        0.2\n",
            "2        0.1\n",
            "3        0.1\n",
            "5        0.1\n",
            "Name: count, dtype: float64\n",
            "Valor\n",
            "1        0.23\n",
            "4        0.22\n",
            "2        0.17\n",
            "6        0.16\n",
            "3        0.12\n",
            "5        0.10\n",
            "Name: count, dtype: float64\n",
            "Valor\n",
            "2        0.180\n",
            "1        0.174\n",
            "6        0.173\n",
            "4        0.165\n",
            "5        0.158\n",
            "3        0.150\n",
            "Name: count, dtype: float64\n",
            "Valor\n",
            "2        0.1734\n",
            "4        0.1709\n",
            "3        0.1662\n",
            "6        0.1651\n",
            "5        0.1635\n",
            "1        0.1609\n",
            "Name: count, dtype: float64\n"
          ]
        }
      ],
      "source": [
        "import numpy as np\n",
        "import pandas as pd\n",
        "\n",
        "# A)\n",
        "def serie_dados(n):\n",
        "    numeros = np.random.randint(1, 7, n)\n",
        "    return numeros\n",
        "\n",
        "# B)\n",
        "def testes(quantidades:list):\n",
        "    for q in quantidades:\n",
        "        df = pd.DataFrame(serie_dados(q), columns=['Valor'])\n",
        "        percentuais = df.value_counts() / q\n",
        "        print(percentuais)\n",
        "\n",
        "testes([10, 100, 1000, 10000])\n",
        "\n",
        "# C)\n",
        "# A partir dos testes realizados, é possível afirmar que, de maneira geral, quanto maior a quantidade de lançamentos dos dados, mais os valores convergem para 1/6 (16,67%). Consequentemente, é observada também uma diminuição na amplitude das quantidades.  "
      ]
    },
    {
      "cell_type": "markdown",
      "id": "723953d4-0369-44e2-89de-85cbb6011e64",
      "metadata": {
        "id": "723953d4-0369-44e2-89de-85cbb6011e64"
      },
      "source": [
        "## Questão 3\n",
        "Seja X uma v.a. que representa o valor observado num dado não viesado.\n",
        "\n",
        "    1. Descreva quem é a distribuição de probabilidade de X\n",
        "    2. Calcule E(X)\n",
        "    3. Calcule Var(X)"
      ]
    },
    {
      "cell_type": "code",
      "execution_count": 4,
      "id": "a3fef664",
      "metadata": {},
      "outputs": [
        {
          "data": {
            "text/html": [
              "<div>\n",
              "<style scoped>\n",
              "    .dataframe tbody tr th:only-of-type {\n",
              "        vertical-align: middle;\n",
              "    }\n",
              "\n",
              "    .dataframe tbody tr th {\n",
              "        vertical-align: top;\n",
              "    }\n",
              "\n",
              "    .dataframe thead th {\n",
              "        text-align: right;\n",
              "    }\n",
              "</style>\n",
              "<table border=\"1\" class=\"dataframe\">\n",
              "  <thead>\n",
              "    <tr style=\"text-align: right;\">\n",
              "      <th></th>\n",
              "      <th>probabilidade</th>\n",
              "    </tr>\n",
              "    <tr>\n",
              "      <th>valor</th>\n",
              "      <th></th>\n",
              "    </tr>\n",
              "  </thead>\n",
              "  <tbody>\n",
              "    <tr>\n",
              "      <th>1</th>\n",
              "      <td>0.166667</td>\n",
              "    </tr>\n",
              "    <tr>\n",
              "      <th>2</th>\n",
              "      <td>0.166667</td>\n",
              "    </tr>\n",
              "    <tr>\n",
              "      <th>3</th>\n",
              "      <td>0.166667</td>\n",
              "    </tr>\n",
              "    <tr>\n",
              "      <th>4</th>\n",
              "      <td>0.166667</td>\n",
              "    </tr>\n",
              "    <tr>\n",
              "      <th>5</th>\n",
              "      <td>0.166667</td>\n",
              "    </tr>\n",
              "    <tr>\n",
              "      <th>6</th>\n",
              "      <td>0.166667</td>\n",
              "    </tr>\n",
              "  </tbody>\n",
              "</table>\n",
              "</div>"
            ],
            "text/plain": [
              "       probabilidade\n",
              "valor               \n",
              "1           0.166667\n",
              "2           0.166667\n",
              "3           0.166667\n",
              "4           0.166667\n",
              "5           0.166667\n",
              "6           0.166667"
            ]
          },
          "execution_count": 4,
          "metadata": {},
          "output_type": "execute_result"
        }
      ],
      "source": [
        "import pandas as pd\n",
        "probabilidades = [1/6] * 6\n",
        "valores = [1, 2, 3, 4, 5, 6]\n",
        "\n",
        "distribuicao = pd.DataFrame({'valor': valores, 'probabilidade': probabilidades}).set_index('valor')\n",
        "distribuicao\n"
      ]
    },
    {
      "cell_type": "code",
      "execution_count": 5,
      "id": "169d5460",
      "metadata": {},
      "outputs": [
        {
          "data": {
            "text/plain": [
              "3.5"
            ]
          },
          "execution_count": 5,
          "metadata": {},
          "output_type": "execute_result"
        }
      ],
      "source": [
        "import numpy as np\n",
        "valor_esperado = np.array([prob * valor for prob, valor in zip(probabilidades, valores)]).sum()\n",
        "valor_esperado\n"
      ]
    },
    {
      "cell_type": "code",
      "execution_count": 6,
      "id": "b7f2b751",
      "metadata": {},
      "outputs": [
        {
          "data": {
            "text/plain": [
              "2.916666666666666"
            ]
          },
          "execution_count": 6,
          "metadata": {},
          "output_type": "execute_result"
        }
      ],
      "source": [
        "valor_esperado_x_quadrado = np.array([prob * valor**2 for prob, valor in zip(probabilidades, valores)]).sum()\n",
        "\n",
        "variancia = valor_esperado_x_quadrado - valor_esperado**2\n",
        "variancia"
      ]
    },
    {
      "cell_type": "code",
      "execution_count": 7,
      "id": "6034c063",
      "metadata": {},
      "outputs": [
        {
          "data": {
            "text/plain": [
              "1.707825127659933"
            ]
          },
          "execution_count": 7,
          "metadata": {},
          "output_type": "execute_result"
        }
      ],
      "source": [
        "desvio_padrao = np.sqrt(variancia)\n",
        "desvio_padrao"
      ]
    },
    {
      "cell_type": "markdown",
      "id": "82372fbf-b5eb-434f-8aed-b85bbd3641b0",
      "metadata": {
        "id": "82372fbf-b5eb-434f-8aed-b85bbd3641b0"
      },
      "source": [
        "## Questão 4\n",
        "Seja X uma v.a. que representa a compra de um ativo (X = 1) ou a não compra de um ativo (X = 0) em que o sucesso da compra tem 90% de probabilidade.\n",
        "\n",
        "    1. Descreva quem é a distribuição de probabilidade de X\n",
        "    2. Calcule E(X)\n",
        "    3. Calcule Var(X)"
      ]
    },
    {
      "cell_type": "code",
      "execution_count": 8,
      "id": "5b591af6",
      "metadata": {},
      "outputs": [
        {
          "data": {
            "text/html": [
              "<div>\n",
              "<style scoped>\n",
              "    .dataframe tbody tr th:only-of-type {\n",
              "        vertical-align: middle;\n",
              "    }\n",
              "\n",
              "    .dataframe tbody tr th {\n",
              "        vertical-align: top;\n",
              "    }\n",
              "\n",
              "    .dataframe thead th {\n",
              "        text-align: right;\n",
              "    }\n",
              "</style>\n",
              "<table border=\"1\" class=\"dataframe\">\n",
              "  <thead>\n",
              "    <tr style=\"text-align: right;\">\n",
              "      <th></th>\n",
              "      <th>probabilidade</th>\n",
              "    </tr>\n",
              "    <tr>\n",
              "      <th>valor</th>\n",
              "      <th></th>\n",
              "    </tr>\n",
              "  </thead>\n",
              "  <tbody>\n",
              "    <tr>\n",
              "      <th>0</th>\n",
              "      <td>0.1</td>\n",
              "    </tr>\n",
              "    <tr>\n",
              "      <th>1</th>\n",
              "      <td>0.9</td>\n",
              "    </tr>\n",
              "  </tbody>\n",
              "</table>\n",
              "</div>"
            ],
            "text/plain": [
              "       probabilidade\n",
              "valor               \n",
              "0                0.1\n",
              "1                0.9"
            ]
          },
          "execution_count": 8,
          "metadata": {},
          "output_type": "execute_result"
        }
      ],
      "source": [
        "valores = [0, 1]\n",
        "probabilidades = [0.1, 0.9]\n",
        "\n",
        "distribuicao = pd.DataFrame({'valor': valores, 'probabilidade': probabilidades}).set_index('valor')\n",
        "distribuicao"
      ]
    },
    {
      "cell_type": "code",
      "execution_count": 12,
      "id": "be9e05eb",
      "metadata": {},
      "outputs": [
        {
          "data": {
            "text/plain": [
              "0.9"
            ]
          },
          "execution_count": 12,
          "metadata": {},
          "output_type": "execute_result"
        }
      ],
      "source": [
        "valor_esperado = np.array([valor * prob for valor, prob in zip(valores, probabilidades)]).sum()\n",
        "valor_esperado\n"
      ]
    },
    {
      "cell_type": "code",
      "execution_count": 17,
      "id": "2690a31f",
      "metadata": {},
      "outputs": [
        {
          "name": "stdout",
          "output_type": "stream",
          "text": [
            "0.09\n"
          ]
        }
      ],
      "source": [
        "valor_esperado_x_quadrado = np.array([valor**2 * prob for valor, prob in zip(valores, probabilidades)]).sum()\n",
        "\n",
        "variancia = valor_esperado_x_quadrado - valor_esperado**2\n",
        "print(f'{variancia:.2f}')"
      ]
    },
    {
      "cell_type": "markdown",
      "id": "4a12dfd0-7697-45fa-9117-06986f5334a0",
      "metadata": {
        "id": "4a12dfd0-7697-45fa-9117-06986f5334a0"
      },
      "source": [
        "## Questão 5\n",
        "Uma relação bem importante entre uma população e uma amostra, é que uma amostra pode ser significativa daquela população (ou seja, podemos inferir que a média e variância da amostra será bem próximo do valor real da população), isto quando essa amostra for grande o suficiente para isso. Vamos fazer algumas simulações utilizando o _Python_ para testar esses conceitos, resolvendo os itens a seguir:\n",
        "\n",
        "__A)__ Crie uma lista com número aleatórios entre 20 e 50 e que essa lista contenham 1 milhão de elementos;\n",
        "\n",
        "__B)__ Calcule a média e a variância para essa lista;\n",
        "\n",
        "__C)__ Faça amostra aleatórias de diversos tamanhos (10, 100, 1.000 e 10.000 elementos) e calcule as mesmas métricas que o item anterior, para avaliar o conceito proposto no enunciado\n",
        "\n",
        "**Dica**: utiliza o método _sample_ do pacote _random_ para fazer a seleção da amostra"
      ]
    },
    {
      "cell_type": "code",
      "execution_count": 56,
      "id": "094cabb8",
      "metadata": {},
      "outputs": [
        {
          "name": "stdout",
          "output_type": "stream",
          "text": [
            "Média: 34.992025\n",
            "Variância: 79.93647739937504\n"
          ]
        }
      ],
      "source": [
        "np.random.seed(42)\n",
        "lista = list(np.random.randint(20, 51, 1_000_000))\n",
        "\n",
        "\n",
        "print(f'Média: {np.mean(lista)}')\n",
        "print(f'Variância: {np.var(lista)}')\n",
        "\n"
      ]
    },
    {
      "cell_type": "code",
      "execution_count": 57,
      "id": "5dfb55bd",
      "metadata": {},
      "outputs": [
        {
          "name": "stdout",
          "output_type": "stream",
          "text": [
            "-- Amostra 10 --\n",
            "33.9\n",
            "105.48999999999998\n",
            "\n",
            "-- Amostra 100 --\n",
            "36.22\n",
            "76.3316\n",
            "\n",
            "-- Amostra 1000 --\n",
            "35.015\n",
            "79.886775\n",
            "\n",
            "-- Amostra 10000 --\n",
            "34.9745\n",
            "79.39824974999999\n",
            "\n"
          ]
        }
      ],
      "source": [
        "import random\n",
        "\n",
        "amostras = [10, 100, 1000, 10000]\n",
        "\n",
        "random.seed(42)\n",
        "\n",
        "for q in amostras:\n",
        "    amostra = random.sample(lista, q)\n",
        "    print(f'-- Amostra {q} --')\n",
        "    print(np.mean(amostra))\n",
        "    print(np.var(amostra))\n",
        "    print()\n",
        "\n"
      ]
    },
    {
      "cell_type": "markdown",
      "id": "f36953b8",
      "metadata": {
        "id": "f36953b8"
      },
      "source": [
        "## Questão 6\n",
        "Um teste para COVID-19 possui uma taxa de 5% de falso positivo e 1% de falso negativo, ou seja, em 5% dos não-infectados acusa como infectados, e em 1% dos infectados acusa como não infectados. Sabendo que atualmente 1% da população está infectada, calcule a probabilidade de um paciente cujo teste apontou positivo estar realmente infectado."
      ]
    },
    {
      "attachments": {},
      "cell_type": "markdown",
      "id": "0210e39a",
      "metadata": {},
      "source": [
        "$$ P(C|+) = \\frac{P(+|C) \\ P(C)}{P(+|C) \\ P(C)  + P(+|¬ C) \\ P(¬ C)} = \\dfrac{P(C \\cap +)}{P(C \\cap +) + P(¬C \\cap +)}  = \\dfrac{P(+|C) \\ P(C)}{P(+)} = \\dfrac{P(C \\cap +)}{P(+)}$$"
      ]
    },
    {
      "cell_type": "code",
      "execution_count": 63,
      "id": "bfdd8a6d",
      "metadata": {},
      "outputs": [
        {
          "data": {
            "text/plain": [
              "0.16666666666666669"
            ]
          },
          "execution_count": 63,
          "metadata": {},
          "output_type": "execute_result"
        }
      ],
      "source": [
        "taxa_falso_positivo = 0.05\n",
        "taxa_falso_negativo = 0.01\n",
        "taxa_infectados = 0.01\n",
        "taxa_saudaveis = 0.99\n",
        "\n",
        "probabilidade_infectado_negativo = taxa_falso_negativo * taxa_infectados\n",
        "probabilidade_infectado_positivo = 0.01 - probabilidade_infectado_negativo\n",
        "\n",
        "probabilidade_saudavel_positivo = 0.05 * 0.99\n",
        "\n",
        "probabilidade_positivo = probabilidade_saudavel_positivo + probabilidade_infectado_positivo\n",
        "\n",
        "probabilidade_infectado_dado_positivo = probabilidade_infectado_positivo / probabilidade_positivo\n",
        "\n",
        "probabilidade_infectado_dado_positivo"
      ]
    },
    {
      "cell_type": "markdown",
      "id": "LxOQ9MBVKc_Q",
      "metadata": {
        "id": "LxOQ9MBVKc_Q"
      },
      "source": [
        "## Questão 7\n",
        "Se uma amostra aleatória n=250, tem uma média amostral de 51,3 e uma desvio padrão populacional de σ=2. Construa o intervalo com 95% de confiança para a média populacional μ."
      ]
    },
    {
      "cell_type": "code",
      "execution_count": 64,
      "id": "f97c5654",
      "metadata": {},
      "outputs": [
        {
          "data": {
            "text/plain": [
              "1.959963984540054"
            ]
          },
          "execution_count": 64,
          "metadata": {},
          "output_type": "execute_result"
        }
      ],
      "source": [
        "from scipy.stats import norm\n",
        "\n",
        "n = 250 # Tamanho da amostra\n",
        "media = 51.3 # x barra\n",
        "desvio_padrao = 2 # Sigma\n",
        "confianca = 0.95\n",
        "significancia = 1 - confianca # alpha\n",
        "\n",
        "z = norm.ppf(confianca + significancia/2)\n",
        "z\n"
      ]
    },
    {
      "cell_type": "code",
      "execution_count": 65,
      "id": "739201b1",
      "metadata": {},
      "outputs": [
        {
          "name": "stdout",
          "output_type": "stream",
          "text": [
            "Limite inferior: 51.05 \n",
            "Limite superior: 51.54791801292182\n"
          ]
        }
      ],
      "source": [
        "limite_inferior = media - z * desvio_padrao / np.sqrt(n)\n",
        "limite_superior = media + z * desvio_padrao / np.sqrt(n)\n",
        "\n",
        "print(f'Limite inferior: {limite_inferior:.2f} \\nLimite superior: {limite_superior}')"
      ]
    },
    {
      "cell_type": "markdown",
      "id": "Mfa5J5nlKnKW",
      "metadata": {
        "id": "Mfa5J5nlKnKW"
      },
      "source": [
        "## Questão 8\n",
        "Sabe-se que a vida em horas de um bulbo de lâmpada de 75 W é distribuída de forma aproximadamente normal com desvio padrão de σ = 25. Uma amostra aleatória de 200 bulbos tem uma vida media de 1.014 horas. Construa um intervalo de confiança de 95% para a vida média."
      ]
    },
    {
      "cell_type": "code",
      "execution_count": 68,
      "id": "97c08adf",
      "metadata": {},
      "outputs": [
        {
          "data": {
            "text/plain": [
              "1.959963984540054"
            ]
          },
          "execution_count": 68,
          "metadata": {},
          "output_type": "execute_result"
        }
      ],
      "source": [
        "from scipy.stats import norm\n",
        "desvio_padrao = 25 # sigma\n",
        "n = 200 # tamanho amostral\n",
        "media = 1014\n",
        "confianca = 0.95\n",
        "significancia = 1 - confianca\n",
        "\n",
        "z = norm.ppf(confianca + significancia/2)\n",
        "z"
      ]
    },
    {
      "cell_type": "code",
      "execution_count": 70,
      "id": "1ca182a1",
      "metadata": {},
      "outputs": [
        {
          "name": "stdout",
          "output_type": "stream",
          "text": [
            "Limite inferior: 1010.54 \n",
            "Limite superior: 1017.4647595608742\n"
          ]
        }
      ],
      "source": [
        "limite_inferior = media - z * desvio_padrao / np.sqrt(n)\n",
        "limite_superior = media + z * desvio_padrao / np.sqrt(n)\n",
        "\n",
        "print(f'Limite inferior: {limite_inferior:.2f} \\nLimite superior: {limite_superior}')"
      ]
    },
    {
      "cell_type": "markdown",
      "id": "uVHWBW-Qh0l2",
      "metadata": {
        "id": "uVHWBW-Qh0l2"
      },
      "source": [
        "## Questão 9\n",
        "\n",
        "Para decidirmos se os habitantes de uma ilha são descendentes da civilização A ou B, iremos proceder do seguinte modo:\n",
        "\n",
        "(i) selecionamos uma amostra de 100 moradores adultos da ilha, e determinamos a altura média deles;\n",
        "\n",
        "(ii) se essa altura média for superior a 176, diremos que são descendentes de B; caso contrário, são descendentes de A.\n",
        "\n",
        "Os parâmetros das alturas das duas civilizações são:\n",
        "A : μ = 175 e σ = 10;\n",
        "B : μ = 177 e σ = 10.\n",
        "\n",
        "Definamos:\n",
        "\n",
        "$H_0: \\overline{X} > 176$\n",
        "\n",
        "$H_1: \\overline{X} \\leq 176$\n",
        "\n",
        "(a) Defina os erros do tipo I e do tipo II e suas probabilidadades de ocorrerem.\n",
        "\n",
        "(b) Qual deve ser a regra de decisão se quisermos fixar a probabilidade do erro de tipo I em $5\\%$? Qual a probabilidade do erro de tipo II, nesse caso?"
      ]
    }
  ],
  "metadata": {
    "colab": {
      "provenance": []
    },
    "kernelspec": {
      "display_name": "Python 3 (ipykernel)",
      "language": "python",
      "name": "python3"
    },
    "language_info": {
      "codemirror_mode": {
        "name": "ipython",
        "version": 3
      },
      "file_extension": ".py",
      "mimetype": "text/x-python",
      "name": "python",
      "nbconvert_exporter": "python",
      "pygments_lexer": "ipython3",
      "version": "3.11.3"
    },
    "varInspector": {
      "cols": {
        "lenName": 16,
        "lenType": 16,
        "lenVar": 40
      },
      "kernels_config": {
        "python": {
          "delete_cmd_postfix": "",
          "delete_cmd_prefix": "del ",
          "library": "var_list.py",
          "varRefreshCmd": "print(var_dic_list())"
        },
        "r": {
          "delete_cmd_postfix": ") ",
          "delete_cmd_prefix": "rm(",
          "library": "var_list.r",
          "varRefreshCmd": "cat(var_dic_list()) "
        }
      },
      "types_to_exclude": [
        "module",
        "function",
        "builtin_function_or_method",
        "instance",
        "_Feature"
      ],
      "window_display": false
    }
  },
  "nbformat": 4,
  "nbformat_minor": 5
}
