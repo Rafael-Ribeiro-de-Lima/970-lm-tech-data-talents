{
 "cells": [
  {
   "attachments": {},
   "cell_type": "markdown",
   "metadata": {},
   "source": [
    "# 2. Probabilidade"
   ]
  },
  {
   "attachments": {},
   "cell_type": "markdown",
   "metadata": {},
   "source": [
    "**Permutação simples**\n",
    "\n",
    "Um arranjo de objetos sem repetição, onde **a ordem é importante**.\n",
    "\n",
    "Se eu quero selecionar $p$ elementos de um conjunto de tamanho $n$?\n",
    "\n",
    "Exemplo:\n",
    "Em uma turma, dez alunos candidataram-se para ocupar os cargos de representante e vice-representante da turma. De quantas maneiras distintas a escolha poderá ser feita?\n",
    "Temos dez alunos disputando duas vagas, portanto, dez elementos tomados dois a dois.\n",
    "\n",
    "$$ P = \\frac{n!}{(n-p)!}$$\n",
    "\n",
    "n - Alunos candidatos, p - vagas"
   ]
  },
  {
   "cell_type": "code",
   "execution_count": 3,
   "metadata": {},
   "outputs": [
    {
     "name": "stdout",
     "output_type": "stream",
     "text": [
      "Quantidade de permutações: 90\n"
     ]
    }
   ],
   "source": [
    "import math\n",
    "\n",
    "n = 10  # número total de elementos\n",
    "p = 2  # número de elementos para permutar\n",
    "\n",
    "permutacoes = math.perm(n, p)\n",
    "print(\"Quantidade de permutações:\", permutacoes)\n"
   ]
  },
  {
   "attachments": {},
   "cell_type": "markdown",
   "metadata": {},
   "source": [
    "**Combinação simples**\n",
    "\n",
    "Na combinação simples, **a ordem dos elementos no agrupamento não interfere**. São arranjos que se diferenciam somente pela natureza de seus elementos. Portanto, se temos um conjunto A formado por n elementos tomados p a p, qualquer subconjunto de A formado por p elementos será uma combinação.\n",
    "\n",
    "Exemplo\n",
    "\n",
    "Quando temos 4 itens (1,2,3,4), quantos grupos de 2 conseguimos selecionar? Pense no caso que quando for selecionado (1,2) e (2,1) temos o mesmo grupo sendo contado 2 vezes.\n",
    "\n",
    "$$ C = \\frac{n!}{p!(n-p)!}$$"
   ]
  },
  {
   "cell_type": "code",
   "execution_count": 8,
   "metadata": {},
   "outputs": [
    {
     "data": {
      "text/plain": [
       "[(1, 2), (1, 3), (1, 4), (2, 3), (2, 4), (3, 4)]"
      ]
     },
     "execution_count": 8,
     "metadata": {},
     "output_type": "execute_result"
    }
   ],
   "source": [
    "numeros = [1,2,3,4]\n",
    "#Combinacoes dois a dois\n",
    "from itertools import combinations\n",
    "\n",
    "comb = combinations(numeros,2)\n",
    "\n",
    "list(comb)"
   ]
  },
  {
   "attachments": {},
   "cell_type": "markdown",
   "metadata": {},
   "source": [
    "**Variável aleatória**: é uma variável cujo valor depende de fatores **não-deterministícos**, isto é, **probabilísticos**. \n",
    "\n",
    "**Exemplo**: resultado do lançamento de um ou mais dados."
   ]
  },
  {
   "attachments": {},
   "cell_type": "markdown",
   "metadata": {},
   "source": [
    "**Espaço amostral**: conjunto de **todos** os resultados possíveis de um certo fenômeno aleatório (<font color = red> elementar e indivisível do experimento</font>), ou seja, **os valores possíveis que a variável aleatória de interesse pode assumir**. Representamos o espaço amostral pela letra grega $\\Omega$. \n",
    "\n",
    "Os subconjuntos de $\\Omega$ são denominados **eventos** e representados pelas letras latinas maiúsculas A, B, etc. \n",
    "\n",
    "**Exemplo**: o espaço amostral dos resultados do lançamento de um dado é:\n",
    "\n",
    "$$ \\Omega = \\{1, 2, 3, 4, 5, 6\\} $$\n",
    "\n",
    "Alguns eventos possíveis são:\n",
    "\n",
    "- Evento A = {3} : o resultado do lançamento do dado foi 3;\n",
    "- Evento B = {2,4,6} : o resultado do lançamento do dado foi um número par."
   ]
  },
  {
   "attachments": {},
   "cell_type": "markdown",
   "metadata": {},
   "source": [
    "### Probabilidade\n",
    "Podemos definir a probabilidade de um evento aleatório A ocorrer como:\n",
    "\n",
    "$$P(A) = \\dfrac{\\#A}{\\#\\Omega}$$\n",
    "\n",
    "em que $\\#A$ é a cardinalidade do evento $A$, ou seja, a quantidade de vezes que ele pode ocorrer dentro do espaço amostral; ou ainda, a quantidade de \"casos favoráveis\" em relação aos casos possíveis.\n",
    "\n",
    "Dessa maneira temos que:\n",
    "- $P(\\Omega) = 1$\n",
    "- $P(\\emptyset) = 0$\n",
    "- $0 \\leq P(A) \\leq 1$\n",
    "- $P(A^c) = 1 - P(A)$ -> evento complementar"
   ]
  },
  {
   "attachments": {},
   "cell_type": "markdown",
   "metadata": {},
   "source": [
    "### Propriedades importantes"
   ]
  },
  {
   "attachments": {},
   "cell_type": "markdown",
   "metadata": {},
   "source": [
    "### União de eventos\n",
    "Dados os eventos $A$ e $B$, o cálculo da união desses eventos é determianda da seguinte forma:\n",
    "    \n",
    "$$ P(A \\cup B) = P(A) A P(B) - P(A \\cap B) $$"
   ]
  },
  {
   "attachments": {},
   "cell_type": "markdown",
   "metadata": {},
   "source": [
    "### Probabilidade Condicional\n",
    "\n",
    "$$ P(A|B) = \\frac{P(A \\cap B)}{P(B)}$$\n",
    "\n",
    "Logo,\n",
    "\n",
    "$$ P(A \\cap B) = P(A,B) = P(A|B) \\times P(B)$$\n",
    "\n",
    "Se dois eventos são independentes: \n",
    "\n",
    "$$P(A,B) = P(A) \\times P(B)$$"
   ]
  },
  {
   "attachments": {},
   "cell_type": "markdown",
   "metadata": {},
   "source": [
    "## Teorema de Bayes"
   ]
  },
  {
   "attachments": {},
   "cell_type": "markdown",
   "metadata": {},
   "source": [
    "O Teorema de Bayes é uma forma **calcular probabilidades condicionais de forma reversa**."
   ]
  },
  {
   "attachments": {},
   "cell_type": "markdown",
   "metadata": {},
   "source": [
    "Vamos considerar o clássico exemplo para explicar o teorema. \n",
    "\n",
    "Temos uma determinada doença C, e um teste T utilizado para detectar esta doença. \n",
    "\n",
    "O teste não é 100% confiável, indicando pessoas que **não têm a doença como doentes (falsos positivos)** e **não detectando a doença em pessoas que a possuem (falsos negativos)**\n",
    "\n",
    "> Consideremos que 1% das pessoas possui a doença: $P(C) = 0.01$\n",
    "\n",
    "> Logo, 99% das pessoas não a possuem: $P(¬C) = 0.99$\n",
    "\n",
    "O teste detecta a doença em pessoas efetivamente doentes 90% das vezes e, consequentemente, não detecta a doença em pessoas doentes em 10% dos casos. \n",
    "\n",
    "Em pessoas não doentes, o teste detecta a doença (erradamente) em 5% dos casos e não detecta em 95% dos casos.\n",
    "\n",
    "#### Em equações, temos:\n",
    "\n",
    "* P(C|+) = Probabilidade de ter a doença dado um teste positivo (esta é a probabilidade que desejamos saber)\n",
    "\n",
    "* P(C) = Probabilidade da pessoa ter a doença = 1%\n",
    "\n",
    "* P(¬C) = Probabilidade da pessoa não ter a doença = 99%\n",
    "\n",
    "* P(+|C) = Probabilidade de um teste positivo dado que a pessoa tem a doença = 90% \n",
    "\n",
    "* P(-|C) = Probabilidade de um teste negativo dado que a pessoa tem a doença = 10% \n",
    "\n",
    "* P(+|¬C) = Probabilidade de um teste positivo dado que a pessoa não tem a doença = 5%\n",
    "\n",
    "* P(-|¬C) = Probabilidade de um teste negativo dado que a pessoa não tem a doença = 95%\n",
    "\n",
    "    **O Teorema de bayes diz que :**\n",
    "\n",
    "$$ P(C|+) = \\frac{P(+|C) \\ P(C)}{P(+|C) \\ P(C)  + P(+|¬ C) \\ P(¬ C)} = \\dfrac{P(C \\cap +)}{P(C \\cap +) + P(¬C \\cap +)}  = \\dfrac{P(+|C) \\ P(C)}{P(+)} = \\dfrac{P(C \\cap +)}{P(+)}$$"
   ]
  },
  {
   "attachments": {},
   "cell_type": "markdown",
   "metadata": {},
   "source": [
    "Agora, a chance de você **ter a doença e o teste detectá-la - $P(C \\cap +)$ - (verdadeiro positivo)** é igual **a chance de você ter a doença - $P(C)$ - multiplicado pela chance do teste ter dado positivo corretamente - $P(+|C)$**;\n",
    "\n",
    "Analogamente, a chance de você **não ter a doença e o teste detecta-la mesmo assim - $P(¬C \\cap +)$ - (falso positivo)** é igual **a chance de você não ter a doença -$P(¬ C)$- multiplicado pela chance do teste ter dado positivo incorretamente - $P(+|¬ C)$**;\n",
    "\n",
    "E assim por diante, para todos os resultados. Assim:\n",
    "\n",
    "|                | Pessoa Doente                            | Pessoa Não Doente                               | Soma\n",
    "|----------------|------------------------------------------|-------------------------------------------------|-------|\n",
    "| **Teste positivo** | Prob Doente e teste pos: 1% × 90% = 0,9% | Prob Não Doente e teste pos: 99% × 5% = 4,95%   | 5,85%\n",
    "| **Teste Negativo** | Prob Doente e teste neg: 1% × 10% = 0,1% | Prob Não Doente e teste neg: 99% × 95% = 94,05% | 94,15%\n",
    "| **Soma** | 1% | 99% | 100%\n",
    "\n",
    "Estas então são nossas probabilidades para cada evento. Note que, se somadas, o resultado é 1, ou 100%. \n",
    "\n",
    "Agora, vamos supor que você fez o teste e o **resultado deu positivo**. \n",
    "\n",
    "Como devemos interpretar este resultado? Qual a chance de você de fato ter a doença? \n",
    "\n",
    "Considerando o cálculo básico de probabilidade, temos que a chance de ter a doença é igual à **chance do evento desejado dividido por todas as possibilidades**. \n",
    "\n",
    "O evento desejado é um positivo verdadeiro, ou seja, **teste positivo e a pessoa com doença**. Para este caso, a probabilidade é de 0,9% (olhe na tabela!) \n",
    "\n",
    "O **total de possibilidades com relação ao teste positivo** seria a **soma da probabilidade de “doente e teste pos”** (verdadeiro positivo) com **“não doente e teste pos” (falso positivo)**, que resultará em 0,9% + 4,95%, igual a 5,85%.\n",
    "\n",
    "Fazendo toda a conta, nossa chance de ter a doença se temos um teste positivo é de **0,9%/5,85% = 0.1538**, ou **15,38%**. \n",
    "\n",
    "É uma chance bem mais baixa do que imaginamos apenas ao olhar para o problema e para a suposta precisão do teste!\n"
   ]
  },
  {
   "cell_type": "code",
   "execution_count": null,
   "metadata": {},
   "outputs": [],
   "source": []
  }
 ],
 "metadata": {
  "kernelspec": {
   "display_name": "Python 3",
   "language": "python",
   "name": "python3"
  },
  "language_info": {
   "codemirror_mode": {
    "name": "ipython",
    "version": 3
   },
   "file_extension": ".py",
   "mimetype": "text/x-python",
   "name": "python",
   "nbconvert_exporter": "python",
   "pygments_lexer": "ipython3",
   "version": "3.11.3"
  },
  "orig_nbformat": 4
 },
 "nbformat": 4,
 "nbformat_minor": 2
}
